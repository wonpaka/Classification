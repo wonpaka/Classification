{
 "cells": [
  {
   "cell_type": "markdown",
   "metadata": {
    "papermill": {
     "duration": 0.023924,
     "end_time": "2020-10-18T14:02:11.402500",
     "exception": false,
     "start_time": "2020-10-18T14:02:11.378576",
     "status": "completed"
    },
    "tags": []
   },
   "source": [
    "## AutoML 예제 (DACON 대회 공유코드)\n",
    "**출처 : https://dacon.io/competitions/official/235647/codeshare/1701?page=1&dtype=recent&ptype=pub **\n",
    "\n"
   ]
  },
  {
   "cell_type": "markdown",
   "metadata": {
    "papermill": {
     "duration": 0.02402,
     "end_time": "2020-10-18T14:02:11.449323",
     "exception": false,
     "start_time": "2020-10-18T14:02:11.425303",
     "status": "completed"
    },
    "tags": []
   },
   "source": [
    "이번 코드에서는 AutoML 패키지인 PyCaret을 활용하여 정형데이터 대회에 참여하는 과정을 알아보겠습니다. Feature engineering, model tuning 없이 주어진 데이터를 그대로 활용하여 default 모델을 훈련하고 예측 했으므로, 추가 작업을 통해 높은 성능을 보여줄 수 있을 것 같습니다. \n",
    "\n",
    "개인적으로 PyCaret은 아직까지 single output인 문제에는 적합한데 multi output 문제에는 부적합한것 같습니다. 혹시 multi output 문제에도 잘 적용된다면 알려주세요!\n",
    "\n",
    "In this kernel we will use an AutoML package called PyCaret to enter data science competitions with structured data. I've used the given data without any feature engineering and trained the models without model tuning, so I expect better scores if we engineer additional feature and tune the models. \n",
    "\n",
    "I think PyCaret is approporiate for single output prediction tasks, but I still haven't figured out easier way to implement it on multi output prediction tasks. Would appreciate it if anyone could share tutorial code on applying PyCaret on multi output prediction task. "
   ]
  },
  {
   "cell_type": "markdown",
   "metadata": {
    "papermill": {
     "duration": 0.022152,
     "end_time": "2020-10-18T14:02:11.494112",
     "exception": false,
     "start_time": "2020-10-18T14:02:11.471960",
     "status": "completed"
    },
    "tags": []
   },
   "source": [
    "## 데이터 불러오기 (Read Data)"
   ]
  },
  {
   "cell_type": "code",
   "execution_count": 1,
   "metadata": {
    "_cell_guid": "79c7e3d0-c299-4dcb-8224-4455121ee9b0",
    "_uuid": "d629ff2d2480ee46fbb7e2d37f6b5fab8052498a",
    "execution": {
     "iopub.execute_input": "2020-10-18T14:02:11.546480Z",
     "iopub.status.busy": "2020-10-18T14:02:11.545645Z",
     "iopub.status.idle": "2020-10-18T14:02:11.911855Z",
     "shell.execute_reply": "2020-10-18T14:02:11.911180Z"
    },
    "papermill": {
     "duration": 0.395338,
     "end_time": "2020-10-18T14:02:11.911998",
     "exception": false,
     "start_time": "2020-10-18T14:02:11.516660",
     "status": "completed"
    },
    "tags": []
   },
   "outputs": [],
   "source": [
    "import pandas as pd\n",
    "train = pd.read_csv('../input/kakr-4th-competition/train.csv')\n",
    "test = pd.read_csv('../input/kakr-4th-competition/test.csv')\n",
    "submission = pd.read_csv('../input/kakr-4th-competition/sample_submission.csv')"
   ]
  },
  {
   "cell_type": "markdown",
   "metadata": {
    "papermill": {
     "duration": 0.022535,
     "end_time": "2020-10-18T14:02:11.957909",
     "exception": false,
     "start_time": "2020-10-18T14:02:11.935374",
     "status": "completed"
    },
    "tags": []
   },
   "source": [
    "## 데이터 구조 확인 (Checking the shapes of data)"
   ]
  },
  {
   "cell_type": "code",
   "execution_count": 2,
   "metadata": {
    "execution": {
     "iopub.execute_input": "2020-10-18T14:02:12.009348Z",
     "iopub.status.busy": "2020-10-18T14:02:12.008618Z",
     "iopub.status.idle": "2020-10-18T14:02:12.011967Z",
     "shell.execute_reply": "2020-10-18T14:02:12.012475Z"
    },
    "papermill": {
     "duration": 0.032046,
     "end_time": "2020-10-18T14:02:12.012644",
     "exception": false,
     "start_time": "2020-10-18T14:02:11.980598",
     "status": "completed"
    },
    "tags": []
   },
   "outputs": [
    {
     "name": "stdout",
     "output_type": "stream",
     "text": [
      "(26049, 16)\n",
      "(6512, 15)\n",
      "(6512, 2)\n"
     ]
    }
   ],
   "source": [
    "print(train.shape)\n",
    "print(test.shape)\n",
    "print(submission.shape)"
   ]
  },
  {
   "cell_type": "markdown",
   "metadata": {
    "papermill": {
     "duration": 0.023161,
     "end_time": "2020-10-18T14:02:12.059582",
     "exception": false,
     "start_time": "2020-10-18T14:02:12.036421",
     "status": "completed"
    },
    "tags": []
   },
   "source": [
    "## PyCaret 패키지 설치 (Install PyCaret)"
   ]
  },
  {
   "cell_type": "code",
   "execution_count": null,
   "metadata": {},
   "outputs": [],
   "source": [
    "# !pip install pycaret"
   ]
  },
  {
   "cell_type": "markdown",
   "metadata": {
    "papermill": {
     "duration": 0.117318,
     "end_time": "2020-10-18T14:03:03.407319",
     "exception": false,
     "start_time": "2020-10-18T14:03:03.290001",
     "status": "completed"
    },
    "tags": []
   },
   "source": [
    "## 분류 작업에 필용한 함수 불러오기 (Import methods for classification task)"
   ]
  },
  {
   "cell_type": "code",
   "execution_count": 3,
   "metadata": {
    "papermill": {
     "duration": 0.132868,
     "end_time": "2020-10-18T14:03:03.662005",
     "exception": false,
     "start_time": "2020-10-18T14:03:03.529137",
     "status": "completed"
    },
    "tags": []
   },
   "outputs": [],
   "source": [
    "from pycaret.classification import *"
   ]
  },
  {
   "cell_type": "markdown",
   "metadata": {
    "papermill": {
     "duration": 0.115642,
     "end_time": "2020-10-18T14:03:03.895464",
     "exception": false,
     "start_time": "2020-10-18T14:03:03.779822",
     "status": "completed"
    },
    "tags": []
   },
   "source": [
    "## 실험 환경 구축 (Setup the environment)\n",
    "\n",
    "- PyCaret에서는 모델 학습 전 실험 환경을 구축 해주어야 합니다. setup 함수를 통해 환경을 구축할 수 있습니다. \n",
    " \n",
    "----\n",
    "\n",
    "- In PyCaret you have to setup the environment before experimenting with the models. It can be done by using 'setup' method. "
   ]
  },
  {
   "cell_type": "code",
   "execution_count": 1,
   "metadata": {
    "papermill": {
     "duration": 0.153455,
     "end_time": "2020-10-18T14:03:04.164863",
     "exception": false,
     "start_time": "2020-10-18T14:03:04.011408",
     "status": "completed"
    },
    "tags": []
   },
   "outputs": [
    {
     "ename": "NameError",
     "evalue": "name 'train' is not defined",
     "output_type": "error",
     "traceback": [
      "\u001b[1;31m---------------------------------------------------------------------------\u001b[0m",
      "\u001b[1;31mNameError\u001b[0m                                 Traceback (most recent call last)",
      "\u001b[1;32m<ipython-input-1-02c49cbc5630>\u001b[0m in \u001b[0;36m<module>\u001b[1;34m\u001b[0m\n\u001b[1;32m----> 1\u001b[1;33m \u001b[0mtrain\u001b[0m\u001b[1;33m.\u001b[0m\u001b[0mhead\u001b[0m\u001b[1;33m(\u001b[0m\u001b[1;36m3\u001b[0m\u001b[1;33m)\u001b[0m\u001b[1;33m\u001b[0m\u001b[1;33m\u001b[0m\u001b[0m\n\u001b[0m",
      "\u001b[1;31mNameError\u001b[0m: name 'train' is not defined"
     ]
    }
   ],
   "source": [
    "train.head()"
   ]
  },
  {
   "cell_type": "code",
   "execution_count": 5,
   "metadata": {
    "papermill": {
     "duration": 6.927702,
     "end_time": "2020-10-18T14:03:11.211272",
     "exception": false,
     "start_time": "2020-10-18T14:03:04.283570",
     "status": "completed"
    },
    "tags": []
   },
   "outputs": [
    {
     "ename": "NameError",
     "evalue": "name 'train' is not defined",
     "output_type": "error",
     "traceback": [
      "\u001b[1;31m---------------------------------------------------------------------------\u001b[0m",
      "\u001b[1;31mNameError\u001b[0m                                 Traceback (most recent call last)",
      "\u001b[1;32m<ipython-input-5-82a16b8be9c6>\u001b[0m in \u001b[0;36m<module>\u001b[1;34m\u001b[0m\n\u001b[0;32m      1\u001b[0m \u001b[1;31m# 'voted' 컬럼이 예측 대상이므로 target 인자에 명시\u001b[0m\u001b[1;33m\u001b[0m\u001b[1;33m\u001b[0m\u001b[1;33m\u001b[0m\u001b[0m\n\u001b[0;32m      2\u001b[0m \u001b[1;31m# 'voted' column is the target variable\u001b[0m\u001b[1;33m\u001b[0m\u001b[1;33m\u001b[0m\u001b[1;33m\u001b[0m\u001b[0m\n\u001b[1;32m----> 3\u001b[1;33m \u001b[0mclf\u001b[0m \u001b[1;33m=\u001b[0m \u001b[0msetup\u001b[0m\u001b[1;33m(\u001b[0m\u001b[0mdata\u001b[0m \u001b[1;33m=\u001b[0m \u001b[0mtrain\u001b[0m\u001b[1;33m,\u001b[0m \u001b[0mtarget\u001b[0m \u001b[1;33m=\u001b[0m \u001b[1;34m'income'\u001b[0m\u001b[1;33m)\u001b[0m\u001b[1;31m#, silent = True)\u001b[0m\u001b[1;33m\u001b[0m\u001b[1;33m\u001b[0m\u001b[0m\n\u001b[0m\u001b[0;32m      4\u001b[0m \u001b[0msetup\u001b[0m\u001b[1;33m\u001b[0m\u001b[1;33m\u001b[0m\u001b[0m\n",
      "\u001b[1;31mNameError\u001b[0m: name 'train' is not defined"
     ]
    }
   ],
   "source": [
    "# 'voted' 컬럼이 예측 대상이므로 target 인자에 명시\n",
    "# 'voted' column is the target variable\n",
    "clf = setup(data = train, target = 'income', silent = True)\n",
    "setup"
   ]
  },
  {
   "cell_type": "markdown",
   "metadata": {
    "papermill": {
     "duration": 0.117911,
     "end_time": "2020-10-18T14:03:11.449815",
     "exception": false,
     "start_time": "2020-10-18T14:03:11.331904",
     "status": "completed"
    },
    "tags": []
   },
   "source": [
    "## 모델 학습 및 비교 (Train models and compare)\n",
    "\n",
    "- 환경 구축을 했으니 PyCaret에서 제공하는 기본 모델에 대해 학습하고 비교해보겠습니다.\n",
    "- compared_models 함수를 통해 15개의 기본 모델을 학습하고 성능을 비교할 수 있습니다. \n",
    "- F1 기준으로 성능이 가장 좋은 3개의 모델을 추려내어 저장해보겠습니다. 본 대회 평가지표가 F1이기 때문에 F1 기준으로 모델을 선정합니다.\n",
    "-----\n",
    "- Now we have constructed the environment, we will now train and compare the default models provided in PyCaret\n",
    "- By using 'compare_models' method we can easily train and compare 15 default models provided in the package\n",
    "- We will select top 3 models in terms of F1, that is because the evaluation metric for this competition is F1"
   ]
  },
  {
   "cell_type": "code",
   "execution_count": 7,
   "metadata": {
    "execution": {
     "iopub.execute_input": "2020-10-18T14:03:11.699787Z",
     "iopub.status.busy": "2020-10-18T14:03:11.696343Z",
     "iopub.status.idle": "2020-10-18T14:12:21.133845Z",
     "shell.execute_reply": "2020-10-18T14:12:21.131403Z"
    },
    "papermill": {
     "duration": 549.565784,
     "end_time": "2020-10-18T14:12:21.133975",
     "exception": false,
     "start_time": "2020-10-18T14:03:11.568191",
     "status": "completed"
    },
    "tags": []
   },
   "outputs": [
    {
     "data": {
      "text/html": [
       "<style  type=\"text/css\" >\n",
       "    #T_efed2f36_114b_11eb_8570_0242ac130202 th {\n",
       "          text-align: left;\n",
       "    }#T_efed2f36_114b_11eb_8570_0242ac130202row0_col0,#T_efed2f36_114b_11eb_8570_0242ac130202row0_col1,#T_efed2f36_114b_11eb_8570_0242ac130202row0_col2,#T_efed2f36_114b_11eb_8570_0242ac130202row0_col3,#T_efed2f36_114b_11eb_8570_0242ac130202row0_col4,#T_efed2f36_114b_11eb_8570_0242ac130202row0_col6,#T_efed2f36_114b_11eb_8570_0242ac130202row0_col7,#T_efed2f36_114b_11eb_8570_0242ac130202row1_col0,#T_efed2f36_114b_11eb_8570_0242ac130202row1_col3,#T_efed2f36_114b_11eb_8570_0242ac130202row1_col4,#T_efed2f36_114b_11eb_8570_0242ac130202row1_col5,#T_efed2f36_114b_11eb_8570_0242ac130202row2_col0,#T_efed2f36_114b_11eb_8570_0242ac130202row2_col1,#T_efed2f36_114b_11eb_8570_0242ac130202row2_col2,#T_efed2f36_114b_11eb_8570_0242ac130202row2_col3,#T_efed2f36_114b_11eb_8570_0242ac130202row2_col4,#T_efed2f36_114b_11eb_8570_0242ac130202row2_col5,#T_efed2f36_114b_11eb_8570_0242ac130202row2_col6,#T_efed2f36_114b_11eb_8570_0242ac130202row2_col7,#T_efed2f36_114b_11eb_8570_0242ac130202row3_col0,#T_efed2f36_114b_11eb_8570_0242ac130202row3_col1,#T_efed2f36_114b_11eb_8570_0242ac130202row3_col2,#T_efed2f36_114b_11eb_8570_0242ac130202row3_col3,#T_efed2f36_114b_11eb_8570_0242ac130202row3_col4,#T_efed2f36_114b_11eb_8570_0242ac130202row3_col5,#T_efed2f36_114b_11eb_8570_0242ac130202row3_col6,#T_efed2f36_114b_11eb_8570_0242ac130202row3_col7,#T_efed2f36_114b_11eb_8570_0242ac130202row4_col0,#T_efed2f36_114b_11eb_8570_0242ac130202row4_col1,#T_efed2f36_114b_11eb_8570_0242ac130202row4_col2,#T_efed2f36_114b_11eb_8570_0242ac130202row4_col3,#T_efed2f36_114b_11eb_8570_0242ac130202row4_col5,#T_efed2f36_114b_11eb_8570_0242ac130202row4_col6,#T_efed2f36_114b_11eb_8570_0242ac130202row4_col7,#T_efed2f36_114b_11eb_8570_0242ac130202row5_col0,#T_efed2f36_114b_11eb_8570_0242ac130202row5_col1,#T_efed2f36_114b_11eb_8570_0242ac130202row5_col2,#T_efed2f36_114b_11eb_8570_0242ac130202row5_col3,#T_efed2f36_114b_11eb_8570_0242ac130202row5_col4,#T_efed2f36_114b_11eb_8570_0242ac130202row5_col5,#T_efed2f36_114b_11eb_8570_0242ac130202row5_col6,#T_efed2f36_114b_11eb_8570_0242ac130202row5_col7,#T_efed2f36_114b_11eb_8570_0242ac130202row6_col0,#T_efed2f36_114b_11eb_8570_0242ac130202row6_col1,#T_efed2f36_114b_11eb_8570_0242ac130202row6_col2,#T_efed2f36_114b_11eb_8570_0242ac130202row6_col3,#T_efed2f36_114b_11eb_8570_0242ac130202row6_col4,#T_efed2f36_114b_11eb_8570_0242ac130202row6_col5,#T_efed2f36_114b_11eb_8570_0242ac130202row6_col6,#T_efed2f36_114b_11eb_8570_0242ac130202row6_col7,#T_efed2f36_114b_11eb_8570_0242ac130202row7_col0,#T_efed2f36_114b_11eb_8570_0242ac130202row7_col1,#T_efed2f36_114b_11eb_8570_0242ac130202row7_col2,#T_efed2f36_114b_11eb_8570_0242ac130202row7_col3,#T_efed2f36_114b_11eb_8570_0242ac130202row7_col4,#T_efed2f36_114b_11eb_8570_0242ac130202row7_col5,#T_efed2f36_114b_11eb_8570_0242ac130202row7_col6,#T_efed2f36_114b_11eb_8570_0242ac130202row7_col7,#T_efed2f36_114b_11eb_8570_0242ac130202row8_col0,#T_efed2f36_114b_11eb_8570_0242ac130202row8_col1,#T_efed2f36_114b_11eb_8570_0242ac130202row8_col2,#T_efed2f36_114b_11eb_8570_0242ac130202row8_col3,#T_efed2f36_114b_11eb_8570_0242ac130202row8_col4,#T_efed2f36_114b_11eb_8570_0242ac130202row8_col5,#T_efed2f36_114b_11eb_8570_0242ac130202row8_col6,#T_efed2f36_114b_11eb_8570_0242ac130202row8_col7,#T_efed2f36_114b_11eb_8570_0242ac130202row9_col0,#T_efed2f36_114b_11eb_8570_0242ac130202row9_col1,#T_efed2f36_114b_11eb_8570_0242ac130202row9_col2,#T_efed2f36_114b_11eb_8570_0242ac130202row9_col3,#T_efed2f36_114b_11eb_8570_0242ac130202row9_col4,#T_efed2f36_114b_11eb_8570_0242ac130202row9_col5,#T_efed2f36_114b_11eb_8570_0242ac130202row9_col6,#T_efed2f36_114b_11eb_8570_0242ac130202row9_col7,#T_efed2f36_114b_11eb_8570_0242ac130202row10_col0,#T_efed2f36_114b_11eb_8570_0242ac130202row10_col1,#T_efed2f36_114b_11eb_8570_0242ac130202row10_col2,#T_efed2f36_114b_11eb_8570_0242ac130202row10_col3,#T_efed2f36_114b_11eb_8570_0242ac130202row10_col4,#T_efed2f36_114b_11eb_8570_0242ac130202row10_col5,#T_efed2f36_114b_11eb_8570_0242ac130202row10_col6,#T_efed2f36_114b_11eb_8570_0242ac130202row10_col7,#T_efed2f36_114b_11eb_8570_0242ac130202row11_col0,#T_efed2f36_114b_11eb_8570_0242ac130202row11_col1,#T_efed2f36_114b_11eb_8570_0242ac130202row11_col2,#T_efed2f36_114b_11eb_8570_0242ac130202row11_col4,#T_efed2f36_114b_11eb_8570_0242ac130202row11_col5,#T_efed2f36_114b_11eb_8570_0242ac130202row11_col6,#T_efed2f36_114b_11eb_8570_0242ac130202row11_col7,#T_efed2f36_114b_11eb_8570_0242ac130202row12_col0,#T_efed2f36_114b_11eb_8570_0242ac130202row12_col1,#T_efed2f36_114b_11eb_8570_0242ac130202row12_col2,#T_efed2f36_114b_11eb_8570_0242ac130202row12_col3,#T_efed2f36_114b_11eb_8570_0242ac130202row12_col4,#T_efed2f36_114b_11eb_8570_0242ac130202row12_col5,#T_efed2f36_114b_11eb_8570_0242ac130202row12_col6,#T_efed2f36_114b_11eb_8570_0242ac130202row12_col7,#T_efed2f36_114b_11eb_8570_0242ac130202row13_col0,#T_efed2f36_114b_11eb_8570_0242ac130202row13_col1,#T_efed2f36_114b_11eb_8570_0242ac130202row13_col2,#T_efed2f36_114b_11eb_8570_0242ac130202row13_col3,#T_efed2f36_114b_11eb_8570_0242ac130202row13_col4,#T_efed2f36_114b_11eb_8570_0242ac130202row13_col5,#T_efed2f36_114b_11eb_8570_0242ac130202row13_col6,#T_efed2f36_114b_11eb_8570_0242ac130202row13_col7,#T_efed2f36_114b_11eb_8570_0242ac130202row14_col0,#T_efed2f36_114b_11eb_8570_0242ac130202row14_col1,#T_efed2f36_114b_11eb_8570_0242ac130202row14_col2,#T_efed2f36_114b_11eb_8570_0242ac130202row14_col3,#T_efed2f36_114b_11eb_8570_0242ac130202row14_col4,#T_efed2f36_114b_11eb_8570_0242ac130202row14_col5,#T_efed2f36_114b_11eb_8570_0242ac130202row14_col6,#T_efed2f36_114b_11eb_8570_0242ac130202row14_col7{\n",
       "            text-align:  left;\n",
       "        }#T_efed2f36_114b_11eb_8570_0242ac130202row0_col5,#T_efed2f36_114b_11eb_8570_0242ac130202row1_col1,#T_efed2f36_114b_11eb_8570_0242ac130202row1_col2,#T_efed2f36_114b_11eb_8570_0242ac130202row1_col6,#T_efed2f36_114b_11eb_8570_0242ac130202row1_col7,#T_efed2f36_114b_11eb_8570_0242ac130202row4_col4,#T_efed2f36_114b_11eb_8570_0242ac130202row11_col3{\n",
       "            background-color:  yellow;\n",
       "            text-align:  left;\n",
       "        }#T_efed2f36_114b_11eb_8570_0242ac130202row0_col8,#T_efed2f36_114b_11eb_8570_0242ac130202row1_col8,#T_efed2f36_114b_11eb_8570_0242ac130202row2_col8,#T_efed2f36_114b_11eb_8570_0242ac130202row3_col8,#T_efed2f36_114b_11eb_8570_0242ac130202row4_col8,#T_efed2f36_114b_11eb_8570_0242ac130202row5_col8,#T_efed2f36_114b_11eb_8570_0242ac130202row6_col8,#T_efed2f36_114b_11eb_8570_0242ac130202row7_col8,#T_efed2f36_114b_11eb_8570_0242ac130202row8_col8,#T_efed2f36_114b_11eb_8570_0242ac130202row9_col8,#T_efed2f36_114b_11eb_8570_0242ac130202row10_col8,#T_efed2f36_114b_11eb_8570_0242ac130202row11_col8,#T_efed2f36_114b_11eb_8570_0242ac130202row12_col8,#T_efed2f36_114b_11eb_8570_0242ac130202row13_col8,#T_efed2f36_114b_11eb_8570_0242ac130202row14_col8{\n",
       "            background-color:  lightgrey;\n",
       "            text-align:  left;\n",
       "        }</style><table id=\"T_efed2f36_114b_11eb_8570_0242ac130202\" ><thead>    <tr>        <th class=\"blank level0\" ></th>        <th class=\"col_heading level0 col0\" >Model</th>        <th class=\"col_heading level0 col1\" >Accuracy</th>        <th class=\"col_heading level0 col2\" >AUC</th>        <th class=\"col_heading level0 col3\" >Recall</th>        <th class=\"col_heading level0 col4\" >Prec.</th>        <th class=\"col_heading level0 col5\" >F1</th>        <th class=\"col_heading level0 col6\" >Kappa</th>        <th class=\"col_heading level0 col7\" >MCC</th>        <th class=\"col_heading level0 col8\" >TT (Sec)</th>    </tr></thead><tbody>\n",
       "                <tr>\n",
       "                        <th id=\"T_efed2f36_114b_11eb_8570_0242ac130202level0_row0\" class=\"row_heading level0 row0\" >0</th>\n",
       "                        <td id=\"T_efed2f36_114b_11eb_8570_0242ac130202row0_col0\" class=\"data row0 col0\" >Light Gradient Boosting Machine</td>\n",
       "                        <td id=\"T_efed2f36_114b_11eb_8570_0242ac130202row0_col1\" class=\"data row0 col1\" >0.8737</td>\n",
       "                        <td id=\"T_efed2f36_114b_11eb_8570_0242ac130202row0_col2\" class=\"data row0 col2\" >0.9269</td>\n",
       "                        <td id=\"T_efed2f36_114b_11eb_8570_0242ac130202row0_col3\" class=\"data row0 col3\" >0.6610</td>\n",
       "                        <td id=\"T_efed2f36_114b_11eb_8570_0242ac130202row0_col4\" class=\"data row0 col4\" >0.7834</td>\n",
       "                        <td id=\"T_efed2f36_114b_11eb_8570_0242ac130202row0_col5\" class=\"data row0 col5\" >0.7169</td>\n",
       "                        <td id=\"T_efed2f36_114b_11eb_8570_0242ac130202row0_col6\" class=\"data row0 col6\" >0.6363</td>\n",
       "                        <td id=\"T_efed2f36_114b_11eb_8570_0242ac130202row0_col7\" class=\"data row0 col7\" >0.6403</td>\n",
       "                        <td id=\"T_efed2f36_114b_11eb_8570_0242ac130202row0_col8\" class=\"data row0 col8\" >0.4036</td>\n",
       "            </tr>\n",
       "            <tr>\n",
       "                        <th id=\"T_efed2f36_114b_11eb_8570_0242ac130202level0_row1\" class=\"row_heading level0 row1\" >1</th>\n",
       "                        <td id=\"T_efed2f36_114b_11eb_8570_0242ac130202row1_col0\" class=\"data row1 col0\" >CatBoost Classifier</td>\n",
       "                        <td id=\"T_efed2f36_114b_11eb_8570_0242ac130202row1_col1\" class=\"data row1 col1\" >0.8745</td>\n",
       "                        <td id=\"T_efed2f36_114b_11eb_8570_0242ac130202row1_col2\" class=\"data row1 col2\" >0.9289</td>\n",
       "                        <td id=\"T_efed2f36_114b_11eb_8570_0242ac130202row1_col3\" class=\"data row1 col3\" >0.6551</td>\n",
       "                        <td id=\"T_efed2f36_114b_11eb_8570_0242ac130202row1_col4\" class=\"data row1 col4\" >0.7906</td>\n",
       "                        <td id=\"T_efed2f36_114b_11eb_8570_0242ac130202row1_col5\" class=\"data row1 col5\" >0.7163</td>\n",
       "                        <td id=\"T_efed2f36_114b_11eb_8570_0242ac130202row1_col6\" class=\"data row1 col6\" >0.6367</td>\n",
       "                        <td id=\"T_efed2f36_114b_11eb_8570_0242ac130202row1_col7\" class=\"data row1 col7\" >0.6415</td>\n",
       "                        <td id=\"T_efed2f36_114b_11eb_8570_0242ac130202row1_col8\" class=\"data row1 col8\" >10.0232</td>\n",
       "            </tr>\n",
       "            <tr>\n",
       "                        <th id=\"T_efed2f36_114b_11eb_8570_0242ac130202level0_row2\" class=\"row_heading level0 row2\" >2</th>\n",
       "                        <td id=\"T_efed2f36_114b_11eb_8570_0242ac130202row2_col0\" class=\"data row2 col0\" >Extreme Gradient Boosting</td>\n",
       "                        <td id=\"T_efed2f36_114b_11eb_8570_0242ac130202row2_col1\" class=\"data row2 col1\" >0.8707</td>\n",
       "                        <td id=\"T_efed2f36_114b_11eb_8570_0242ac130202row2_col2\" class=\"data row2 col2\" >0.9254</td>\n",
       "                        <td id=\"T_efed2f36_114b_11eb_8570_0242ac130202row2_col3\" class=\"data row2 col3\" >0.6590</td>\n",
       "                        <td id=\"T_efed2f36_114b_11eb_8570_0242ac130202row2_col4\" class=\"data row2 col4\" >0.7738</td>\n",
       "                        <td id=\"T_efed2f36_114b_11eb_8570_0242ac130202row2_col5\" class=\"data row2 col5\" >0.7116</td>\n",
       "                        <td id=\"T_efed2f36_114b_11eb_8570_0242ac130202row2_col6\" class=\"data row2 col6\" >0.6290</td>\n",
       "                        <td id=\"T_efed2f36_114b_11eb_8570_0242ac130202row2_col7\" class=\"data row2 col7\" >0.6325</td>\n",
       "                        <td id=\"T_efed2f36_114b_11eb_8570_0242ac130202row2_col8\" class=\"data row2 col8\" >10.0862</td>\n",
       "            </tr>\n",
       "            <tr>\n",
       "                        <th id=\"T_efed2f36_114b_11eb_8570_0242ac130202level0_row3\" class=\"row_heading level0 row3\" >3</th>\n",
       "                        <td id=\"T_efed2f36_114b_11eb_8570_0242ac130202row3_col0\" class=\"data row3 col0\" >Ada Boost Classifier</td>\n",
       "                        <td id=\"T_efed2f36_114b_11eb_8570_0242ac130202row3_col1\" class=\"data row3 col1\" >0.8603</td>\n",
       "                        <td id=\"T_efed2f36_114b_11eb_8570_0242ac130202row3_col2\" class=\"data row3 col2\" >0.9153</td>\n",
       "                        <td id=\"T_efed2f36_114b_11eb_8570_0242ac130202row3_col3\" class=\"data row3 col3\" >0.6250</td>\n",
       "                        <td id=\"T_efed2f36_114b_11eb_8570_0242ac130202row3_col4\" class=\"data row3 col4\" >0.7564</td>\n",
       "                        <td id=\"T_efed2f36_114b_11eb_8570_0242ac130202row3_col5\" class=\"data row3 col5\" >0.6840</td>\n",
       "                        <td id=\"T_efed2f36_114b_11eb_8570_0242ac130202row3_col6\" class=\"data row3 col6\" >0.5954</td>\n",
       "                        <td id=\"T_efed2f36_114b_11eb_8570_0242ac130202row3_col7\" class=\"data row3 col7\" >0.6002</td>\n",
       "                        <td id=\"T_efed2f36_114b_11eb_8570_0242ac130202row3_col8\" class=\"data row3 col8\" >1.3996</td>\n",
       "            </tr>\n",
       "            <tr>\n",
       "                        <th id=\"T_efed2f36_114b_11eb_8570_0242ac130202level0_row4\" class=\"row_heading level0 row4\" >4</th>\n",
       "                        <td id=\"T_efed2f36_114b_11eb_8570_0242ac130202row4_col0\" class=\"data row4 col0\" >Gradient Boosting Classifier</td>\n",
       "                        <td id=\"T_efed2f36_114b_11eb_8570_0242ac130202row4_col1\" class=\"data row4 col1\" >0.8657</td>\n",
       "                        <td id=\"T_efed2f36_114b_11eb_8570_0242ac130202row4_col2\" class=\"data row4 col2\" >0.9211</td>\n",
       "                        <td id=\"T_efed2f36_114b_11eb_8570_0242ac130202row4_col3\" class=\"data row4 col3\" >0.5980</td>\n",
       "                        <td id=\"T_efed2f36_114b_11eb_8570_0242ac130202row4_col4\" class=\"data row4 col4\" >0.7975</td>\n",
       "                        <td id=\"T_efed2f36_114b_11eb_8570_0242ac130202row4_col5\" class=\"data row4 col5\" >0.6830</td>\n",
       "                        <td id=\"T_efed2f36_114b_11eb_8570_0242ac130202row4_col6\" class=\"data row4 col6\" >0.6001</td>\n",
       "                        <td id=\"T_efed2f36_114b_11eb_8570_0242ac130202row4_col7\" class=\"data row4 col7\" >0.6104</td>\n",
       "                        <td id=\"T_efed2f36_114b_11eb_8570_0242ac130202row4_col8\" class=\"data row4 col8\" >4.2536</td>\n",
       "            </tr>\n",
       "            <tr>\n",
       "                        <th id=\"T_efed2f36_114b_11eb_8570_0242ac130202level0_row5\" class=\"row_heading level0 row5\" >5</th>\n",
       "                        <td id=\"T_efed2f36_114b_11eb_8570_0242ac130202row5_col0\" class=\"data row5 col0\" >Random Forest Classifier</td>\n",
       "                        <td id=\"T_efed2f36_114b_11eb_8570_0242ac130202row5_col1\" class=\"data row5 col1\" >0.8471</td>\n",
       "                        <td id=\"T_efed2f36_114b_11eb_8570_0242ac130202row5_col2\" class=\"data row5 col2\" >0.8783</td>\n",
       "                        <td id=\"T_efed2f36_114b_11eb_8570_0242ac130202row5_col3\" class=\"data row5 col3\" >0.5819</td>\n",
       "                        <td id=\"T_efed2f36_114b_11eb_8570_0242ac130202row5_col4\" class=\"data row5 col4\" >0.7319</td>\n",
       "                        <td id=\"T_efed2f36_114b_11eb_8570_0242ac130202row5_col5\" class=\"data row5 col5\" >0.6480</td>\n",
       "                        <td id=\"T_efed2f36_114b_11eb_8570_0242ac130202row5_col6\" class=\"data row5 col6\" >0.5520</td>\n",
       "                        <td id=\"T_efed2f36_114b_11eb_8570_0242ac130202row5_col7\" class=\"data row5 col7\" >0.5581</td>\n",
       "                        <td id=\"T_efed2f36_114b_11eb_8570_0242ac130202row5_col8\" class=\"data row5 col8\" >0.2184</td>\n",
       "            </tr>\n",
       "            <tr>\n",
       "                        <th id=\"T_efed2f36_114b_11eb_8570_0242ac130202level0_row6\" class=\"row_heading level0 row6\" >6</th>\n",
       "                        <td id=\"T_efed2f36_114b_11eb_8570_0242ac130202row6_col0\" class=\"data row6 col0\" >Linear Discriminant Analysis</td>\n",
       "                        <td id=\"T_efed2f36_114b_11eb_8570_0242ac130202row6_col1\" class=\"data row6 col1\" >0.8421</td>\n",
       "                        <td id=\"T_efed2f36_114b_11eb_8570_0242ac130202row6_col2\" class=\"data row6 col2\" >0.8942</td>\n",
       "                        <td id=\"T_efed2f36_114b_11eb_8570_0242ac130202row6_col3\" class=\"data row6 col3\" >0.5731</td>\n",
       "                        <td id=\"T_efed2f36_114b_11eb_8570_0242ac130202row6_col4\" class=\"data row6 col4\" >0.7186</td>\n",
       "                        <td id=\"T_efed2f36_114b_11eb_8570_0242ac130202row6_col5\" class=\"data row6 col5\" >0.6373</td>\n",
       "                        <td id=\"T_efed2f36_114b_11eb_8570_0242ac130202row6_col6\" class=\"data row6 col6\" >0.5381</td>\n",
       "                        <td id=\"T_efed2f36_114b_11eb_8570_0242ac130202row6_col7\" class=\"data row6 col7\" >0.5439</td>\n",
       "                        <td id=\"T_efed2f36_114b_11eb_8570_0242ac130202row6_col8\" class=\"data row6 col8\" >0.2755</td>\n",
       "            </tr>\n",
       "            <tr>\n",
       "                        <th id=\"T_efed2f36_114b_11eb_8570_0242ac130202level0_row7\" class=\"row_heading level0 row7\" >7</th>\n",
       "                        <td id=\"T_efed2f36_114b_11eb_8570_0242ac130202row7_col0\" class=\"data row7 col0\" >Extra Trees Classifier</td>\n",
       "                        <td id=\"T_efed2f36_114b_11eb_8570_0242ac130202row7_col1\" class=\"data row7 col1\" >0.8306</td>\n",
       "                        <td id=\"T_efed2f36_114b_11eb_8570_0242ac130202row7_col2\" class=\"data row7 col2\" >0.8806</td>\n",
       "                        <td id=\"T_efed2f36_114b_11eb_8570_0242ac130202row7_col3\" class=\"data row7 col3\" >0.5944</td>\n",
       "                        <td id=\"T_efed2f36_114b_11eb_8570_0242ac130202row7_col4\" class=\"data row7 col4\" >0.6690</td>\n",
       "                        <td id=\"T_efed2f36_114b_11eb_8570_0242ac130202row7_col5\" class=\"data row7 col5\" >0.6291</td>\n",
       "                        <td id=\"T_efed2f36_114b_11eb_8570_0242ac130202row7_col6\" class=\"data row7 col6\" >0.5199</td>\n",
       "                        <td id=\"T_efed2f36_114b_11eb_8570_0242ac130202row7_col7\" class=\"data row7 col7\" >0.5217</td>\n",
       "                        <td id=\"T_efed2f36_114b_11eb_8570_0242ac130202row7_col8\" class=\"data row7 col8\" >1.3858</td>\n",
       "            </tr>\n",
       "            <tr>\n",
       "                        <th id=\"T_efed2f36_114b_11eb_8570_0242ac130202level0_row8\" class=\"row_heading level0 row8\" >8</th>\n",
       "                        <td id=\"T_efed2f36_114b_11eb_8570_0242ac130202row8_col0\" class=\"data row8 col0\" >Decision Tree Classifier</td>\n",
       "                        <td id=\"T_efed2f36_114b_11eb_8570_0242ac130202row8_col1\" class=\"data row8 col1\" >0.8130</td>\n",
       "                        <td id=\"T_efed2f36_114b_11eb_8570_0242ac130202row8_col2\" class=\"data row8 col2\" >0.7480</td>\n",
       "                        <td id=\"T_efed2f36_114b_11eb_8570_0242ac130202row8_col3\" class=\"data row8 col3\" >0.6220</td>\n",
       "                        <td id=\"T_efed2f36_114b_11eb_8570_0242ac130202row8_col4\" class=\"data row8 col4\" >0.6126</td>\n",
       "                        <td id=\"T_efed2f36_114b_11eb_8570_0242ac130202row8_col5\" class=\"data row8 col5\" >0.6169</td>\n",
       "                        <td id=\"T_efed2f36_114b_11eb_8570_0242ac130202row8_col6\" class=\"data row8 col6\" >0.4934</td>\n",
       "                        <td id=\"T_efed2f36_114b_11eb_8570_0242ac130202row8_col7\" class=\"data row8 col7\" >0.4936</td>\n",
       "                        <td id=\"T_efed2f36_114b_11eb_8570_0242ac130202row8_col8\" class=\"data row8 col8\" >0.2272</td>\n",
       "            </tr>\n",
       "            <tr>\n",
       "                        <th id=\"T_efed2f36_114b_11eb_8570_0242ac130202level0_row9\" class=\"row_heading level0 row9\" >9</th>\n",
       "                        <td id=\"T_efed2f36_114b_11eb_8570_0242ac130202row9_col0\" class=\"data row9 col0\" >Ridge Classifier</td>\n",
       "                        <td id=\"T_efed2f36_114b_11eb_8570_0242ac130202row9_col1\" class=\"data row9 col1\" >0.8404</td>\n",
       "                        <td id=\"T_efed2f36_114b_11eb_8570_0242ac130202row9_col2\" class=\"data row9 col2\" >0.0000</td>\n",
       "                        <td id=\"T_efed2f36_114b_11eb_8570_0242ac130202row9_col3\" class=\"data row9 col3\" >0.5176</td>\n",
       "                        <td id=\"T_efed2f36_114b_11eb_8570_0242ac130202row9_col4\" class=\"data row9 col4\" >0.7456</td>\n",
       "                        <td id=\"T_efed2f36_114b_11eb_8570_0242ac130202row9_col5\" class=\"data row9 col5\" >0.6108</td>\n",
       "                        <td id=\"T_efed2f36_114b_11eb_8570_0242ac130202row9_col6\" class=\"data row9 col6\" >0.5145</td>\n",
       "                        <td id=\"T_efed2f36_114b_11eb_8570_0242ac130202row9_col7\" class=\"data row9 col7\" >0.5282</td>\n",
       "                        <td id=\"T_efed2f36_114b_11eb_8570_0242ac130202row9_col8\" class=\"data row9 col8\" >0.0415</td>\n",
       "            </tr>\n",
       "            <tr>\n",
       "                        <th id=\"T_efed2f36_114b_11eb_8570_0242ac130202level0_row10\" class=\"row_heading level0 row10\" >10</th>\n",
       "                        <td id=\"T_efed2f36_114b_11eb_8570_0242ac130202row10_col0\" class=\"data row10 col0\" >Naive Bayes</td>\n",
       "                        <td id=\"T_efed2f36_114b_11eb_8570_0242ac130202row10_col1\" class=\"data row10 col1\" >0.7977</td>\n",
       "                        <td id=\"T_efed2f36_114b_11eb_8570_0242ac130202row10_col2\" class=\"data row10 col2\" >0.8101</td>\n",
       "                        <td id=\"T_efed2f36_114b_11eb_8570_0242ac130202row10_col3\" class=\"data row10 col3\" >0.3186</td>\n",
       "                        <td id=\"T_efed2f36_114b_11eb_8570_0242ac130202row10_col4\" class=\"data row10 col4\" >0.6729</td>\n",
       "                        <td id=\"T_efed2f36_114b_11eb_8570_0242ac130202row10_col5\" class=\"data row10 col5\" >0.4319</td>\n",
       "                        <td id=\"T_efed2f36_114b_11eb_8570_0242ac130202row10_col6\" class=\"data row10 col6\" >0.3277</td>\n",
       "                        <td id=\"T_efed2f36_114b_11eb_8570_0242ac130202row10_col7\" class=\"data row10 col7\" >0.3618</td>\n",
       "                        <td id=\"T_efed2f36_114b_11eb_8570_0242ac130202row10_col8\" class=\"data row10 col8\" >0.0312</td>\n",
       "            </tr>\n",
       "            <tr>\n",
       "                        <th id=\"T_efed2f36_114b_11eb_8570_0242ac130202level0_row11\" class=\"row_heading level0 row11\" >11</th>\n",
       "                        <td id=\"T_efed2f36_114b_11eb_8570_0242ac130202row11_col0\" class=\"data row11 col0\" >Quadratic Discriminant Analysis</td>\n",
       "                        <td id=\"T_efed2f36_114b_11eb_8570_0242ac130202row11_col1\" class=\"data row11 col1\" >0.2840</td>\n",
       "                        <td id=\"T_efed2f36_114b_11eb_8570_0242ac130202row11_col2\" class=\"data row11 col2\" >0.5245</td>\n",
       "                        <td id=\"T_efed2f36_114b_11eb_8570_0242ac130202row11_col3\" class=\"data row11 col3\" >0.9857</td>\n",
       "                        <td id=\"T_efed2f36_114b_11eb_8570_0242ac130202row11_col4\" class=\"data row11 col4\" >0.2524</td>\n",
       "                        <td id=\"T_efed2f36_114b_11eb_8570_0242ac130202row11_col5\" class=\"data row11 col5\" >0.4012</td>\n",
       "                        <td id=\"T_efed2f36_114b_11eb_8570_0242ac130202row11_col6\" class=\"data row11 col6\" >0.0253</td>\n",
       "                        <td id=\"T_efed2f36_114b_11eb_8570_0242ac130202row11_col7\" class=\"data row11 col7\" >0.0819</td>\n",
       "                        <td id=\"T_efed2f36_114b_11eb_8570_0242ac130202row11_col8\" class=\"data row11 col8\" >0.0999</td>\n",
       "            </tr>\n",
       "            <tr>\n",
       "                        <th id=\"T_efed2f36_114b_11eb_8570_0242ac130202level0_row12\" class=\"row_heading level0 row12\" >12</th>\n",
       "                        <td id=\"T_efed2f36_114b_11eb_8570_0242ac130202row12_col0\" class=\"data row12 col0\" >Logistic Regression</td>\n",
       "                        <td id=\"T_efed2f36_114b_11eb_8570_0242ac130202row12_col1\" class=\"data row12 col1\" >0.7972</td>\n",
       "                        <td id=\"T_efed2f36_114b_11eb_8570_0242ac130202row12_col2\" class=\"data row12 col2\" >0.6036</td>\n",
       "                        <td id=\"T_efed2f36_114b_11eb_8570_0242ac130202row12_col3\" class=\"data row12 col3\" >0.2744</td>\n",
       "                        <td id=\"T_efed2f36_114b_11eb_8570_0242ac130202row12_col4\" class=\"data row12 col4\" >0.7099</td>\n",
       "                        <td id=\"T_efed2f36_114b_11eb_8570_0242ac130202row12_col5\" class=\"data row12 col5\" >0.3954</td>\n",
       "                        <td id=\"T_efed2f36_114b_11eb_8570_0242ac130202row12_col6\" class=\"data row12 col6\" >0.3013</td>\n",
       "                        <td id=\"T_efed2f36_114b_11eb_8570_0242ac130202row12_col7\" class=\"data row12 col7\" >0.3508</td>\n",
       "                        <td id=\"T_efed2f36_114b_11eb_8570_0242ac130202row12_col8\" class=\"data row12 col8\" >0.2270</td>\n",
       "            </tr>\n",
       "            <tr>\n",
       "                        <th id=\"T_efed2f36_114b_11eb_8570_0242ac130202level0_row13\" class=\"row_heading level0 row13\" >13</th>\n",
       "                        <td id=\"T_efed2f36_114b_11eb_8570_0242ac130202row13_col0\" class=\"data row13 col0\" >K Neighbors Classifier</td>\n",
       "                        <td id=\"T_efed2f36_114b_11eb_8570_0242ac130202row13_col1\" class=\"data row13 col1\" >0.7716</td>\n",
       "                        <td id=\"T_efed2f36_114b_11eb_8570_0242ac130202row13_col2\" class=\"data row13 col2\" >0.6556</td>\n",
       "                        <td id=\"T_efed2f36_114b_11eb_8570_0242ac130202row13_col3\" class=\"data row13 col3\" >0.2982</td>\n",
       "                        <td id=\"T_efed2f36_114b_11eb_8570_0242ac130202row13_col4\" class=\"data row13 col4\" >0.5518</td>\n",
       "                        <td id=\"T_efed2f36_114b_11eb_8570_0242ac130202row13_col5\" class=\"data row13 col5\" >0.3869</td>\n",
       "                        <td id=\"T_efed2f36_114b_11eb_8570_0242ac130202row13_col6\" class=\"data row13 col6\" >0.2617</td>\n",
       "                        <td id=\"T_efed2f36_114b_11eb_8570_0242ac130202row13_col7\" class=\"data row13 col7\" >0.2805</td>\n",
       "                        <td id=\"T_efed2f36_114b_11eb_8570_0242ac130202row13_col8\" class=\"data row13 col8\" >0.3003</td>\n",
       "            </tr>\n",
       "            <tr>\n",
       "                        <th id=\"T_efed2f36_114b_11eb_8570_0242ac130202level0_row14\" class=\"row_heading level0 row14\" >14</th>\n",
       "                        <td id=\"T_efed2f36_114b_11eb_8570_0242ac130202row14_col0\" class=\"data row14 col0\" >SVM - Linear Kernel</td>\n",
       "                        <td id=\"T_efed2f36_114b_11eb_8570_0242ac130202row14_col1\" class=\"data row14 col1\" >0.5691</td>\n",
       "                        <td id=\"T_efed2f36_114b_11eb_8570_0242ac130202row14_col2\" class=\"data row14 col2\" >0.0000</td>\n",
       "                        <td id=\"T_efed2f36_114b_11eb_8570_0242ac130202row14_col3\" class=\"data row14 col3\" >0.5539</td>\n",
       "                        <td id=\"T_efed2f36_114b_11eb_8570_0242ac130202row14_col4\" class=\"data row14 col4\" >0.5107</td>\n",
       "                        <td id=\"T_efed2f36_114b_11eb_8570_0242ac130202row14_col5\" class=\"data row14 col5\" >0.3691</td>\n",
       "                        <td id=\"T_efed2f36_114b_11eb_8570_0242ac130202row14_col6\" class=\"data row14 col6\" >0.1577</td>\n",
       "                        <td id=\"T_efed2f36_114b_11eb_8570_0242ac130202row14_col7\" class=\"data row14 col7\" >0.1881</td>\n",
       "                        <td id=\"T_efed2f36_114b_11eb_8570_0242ac130202row14_col8\" class=\"data row14 col8\" >1.2636</td>\n",
       "            </tr>\n",
       "    </tbody></table>"
      ],
      "text/plain": [
       "<pandas.io.formats.style.Styler at 0x7f01841ac510>"
      ]
     },
     "metadata": {},
     "output_type": "display_data"
    }
   ],
   "source": [
    "best_3 = compare_models(sort = 'F1', n_select = 3)"
   ]
  },
  {
   "cell_type": "markdown",
   "metadata": {
    "papermill": {
     "duration": 0.129502,
     "end_time": "2020-10-18T14:12:21.383652",
     "exception": false,
     "start_time": "2020-10-18T14:12:21.254150",
     "status": "completed"
    },
    "tags": []
   },
   "source": [
    "- 가장 좋은 3개의 모델은 best_3 변수에 저장되어 있습니다.  "
   ]
  },
  {
   "cell_type": "markdown",
   "metadata": {
    "papermill": {
     "duration": 0.119668,
     "end_time": "2020-10-18T14:12:21.623709",
     "exception": false,
     "start_time": "2020-10-18T14:12:21.504041",
     "status": "completed"
    },
    "tags": []
   },
   "source": [
    "## 모델 앙상블 (Model Ensemble)"
   ]
  },
  {
   "cell_type": "markdown",
   "metadata": {
    "papermill": {
     "duration": 0.12024,
     "end_time": "2020-10-18T14:12:21.864235",
     "exception": false,
     "start_time": "2020-10-18T14:12:21.743995",
     "status": "completed"
    },
    "tags": []
   },
   "source": [
    "- 학습된 3개의 모델을 앙상블 시키도록 하겠습니다.확률 값을 기준으로 soft vote ensemble을 진행하겠습니다. "
   ]
  },
  {
   "cell_type": "code",
   "execution_count": 8,
   "metadata": {
    "execution": {
     "iopub.execute_input": "2020-10-18T14:12:22.111924Z",
     "iopub.status.busy": "2020-10-18T14:12:22.110866Z",
     "iopub.status.idle": "2020-10-18T14:14:01.545791Z",
     "shell.execute_reply": "2020-10-18T14:14:01.546397Z"
    },
    "papermill": {
     "duration": 99.561329,
     "end_time": "2020-10-18T14:14:01.546574",
     "exception": false,
     "start_time": "2020-10-18T14:12:21.985245",
     "status": "completed"
    },
    "tags": []
   },
   "outputs": [
    {
     "data": {
      "text/html": [
       "<style  type=\"text/css\" >\n",
       "#T_2bcfd71a_114c_11eb_8570_0242ac130202row5_col0,#T_2bcfd71a_114c_11eb_8570_0242ac130202row5_col1,#T_2bcfd71a_114c_11eb_8570_0242ac130202row5_col2,#T_2bcfd71a_114c_11eb_8570_0242ac130202row5_col3,#T_2bcfd71a_114c_11eb_8570_0242ac130202row5_col4,#T_2bcfd71a_114c_11eb_8570_0242ac130202row5_col5,#T_2bcfd71a_114c_11eb_8570_0242ac130202row5_col6{\n",
       "            background:  yellow;\n",
       "        }</style><table id=\"T_2bcfd71a_114c_11eb_8570_0242ac130202\" ><thead>    <tr>        <th class=\"blank level0\" ></th>        <th class=\"col_heading level0 col0\" >Accuracy</th>        <th class=\"col_heading level0 col1\" >AUC</th>        <th class=\"col_heading level0 col2\" >Recall</th>        <th class=\"col_heading level0 col3\" >Prec.</th>        <th class=\"col_heading level0 col4\" >F1</th>        <th class=\"col_heading level0 col5\" >Kappa</th>        <th class=\"col_heading level0 col6\" >MCC</th>    </tr></thead><tbody>\n",
       "                <tr>\n",
       "                        <th id=\"T_2bcfd71a_114c_11eb_8570_0242ac130202level0_row0\" class=\"row_heading level0 row0\" >0</th>\n",
       "                        <td id=\"T_2bcfd71a_114c_11eb_8570_0242ac130202row0_col0\" class=\"data row0 col0\" >0.8665</td>\n",
       "                        <td id=\"T_2bcfd71a_114c_11eb_8570_0242ac130202row0_col1\" class=\"data row0 col1\" >0.9242</td>\n",
       "                        <td id=\"T_2bcfd71a_114c_11eb_8570_0242ac130202row0_col2\" class=\"data row0 col2\" >0.6338</td>\n",
       "                        <td id=\"T_2bcfd71a_114c_11eb_8570_0242ac130202row0_col3\" class=\"data row0 col3\" >0.7732</td>\n",
       "                        <td id=\"T_2bcfd71a_114c_11eb_8570_0242ac130202row0_col4\" class=\"data row0 col4\" >0.6966</td>\n",
       "                        <td id=\"T_2bcfd71a_114c_11eb_8570_0242ac130202row0_col5\" class=\"data row0 col5\" >0.6120</td>\n",
       "                        <td id=\"T_2bcfd71a_114c_11eb_8570_0242ac130202row0_col6\" class=\"data row0 col6\" >0.6170</td>\n",
       "            </tr>\n",
       "            <tr>\n",
       "                        <th id=\"T_2bcfd71a_114c_11eb_8570_0242ac130202level0_row1\" class=\"row_heading level0 row1\" >1</th>\n",
       "                        <td id=\"T_2bcfd71a_114c_11eb_8570_0242ac130202row1_col0\" class=\"data row1 col0\" >0.8763</td>\n",
       "                        <td id=\"T_2bcfd71a_114c_11eb_8570_0242ac130202row1_col1\" class=\"data row1 col1\" >0.9286</td>\n",
       "                        <td id=\"T_2bcfd71a_114c_11eb_8570_0242ac130202row1_col2\" class=\"data row1 col2\" >0.6716</td>\n",
       "                        <td id=\"T_2bcfd71a_114c_11eb_8570_0242ac130202row1_col3\" class=\"data row1 col3\" >0.7865</td>\n",
       "                        <td id=\"T_2bcfd71a_114c_11eb_8570_0242ac130202row1_col4\" class=\"data row1 col4\" >0.7245</td>\n",
       "                        <td id=\"T_2bcfd71a_114c_11eb_8570_0242ac130202row1_col5\" class=\"data row1 col5\" >0.6454</td>\n",
       "                        <td id=\"T_2bcfd71a_114c_11eb_8570_0242ac130202row1_col6\" class=\"data row1 col6\" >0.6488</td>\n",
       "            </tr>\n",
       "            <tr>\n",
       "                        <th id=\"T_2bcfd71a_114c_11eb_8570_0242ac130202level0_row2\" class=\"row_heading level0 row2\" >2</th>\n",
       "                        <td id=\"T_2bcfd71a_114c_11eb_8570_0242ac130202row2_col0\" class=\"data row2 col0\" >0.8703</td>\n",
       "                        <td id=\"T_2bcfd71a_114c_11eb_8570_0242ac130202row2_col1\" class=\"data row2 col1\" >0.9283</td>\n",
       "                        <td id=\"T_2bcfd71a_114c_11eb_8570_0242ac130202row2_col2\" class=\"data row2 col2\" >0.6580</td>\n",
       "                        <td id=\"T_2bcfd71a_114c_11eb_8570_0242ac130202row2_col3\" class=\"data row2 col3\" >0.7726</td>\n",
       "                        <td id=\"T_2bcfd71a_114c_11eb_8570_0242ac130202row2_col4\" class=\"data row2 col4\" >0.7107</td>\n",
       "                        <td id=\"T_2bcfd71a_114c_11eb_8570_0242ac130202row2_col5\" class=\"data row2 col5\" >0.6278</td>\n",
       "                        <td id=\"T_2bcfd71a_114c_11eb_8570_0242ac130202row2_col6\" class=\"data row2 col6\" >0.6312</td>\n",
       "            </tr>\n",
       "            <tr>\n",
       "                        <th id=\"T_2bcfd71a_114c_11eb_8570_0242ac130202level0_row3\" class=\"row_heading level0 row3\" >3</th>\n",
       "                        <td id=\"T_2bcfd71a_114c_11eb_8570_0242ac130202row3_col0\" class=\"data row3 col0\" >0.8717</td>\n",
       "                        <td id=\"T_2bcfd71a_114c_11eb_8570_0242ac130202row3_col1\" class=\"data row3 col1\" >0.9282</td>\n",
       "                        <td id=\"T_2bcfd71a_114c_11eb_8570_0242ac130202row3_col2\" class=\"data row3 col2\" >0.6523</td>\n",
       "                        <td id=\"T_2bcfd71a_114c_11eb_8570_0242ac130202row3_col3\" class=\"data row3 col3\" >0.7815</td>\n",
       "                        <td id=\"T_2bcfd71a_114c_11eb_8570_0242ac130202row3_col4\" class=\"data row3 col4\" >0.7111</td>\n",
       "                        <td id=\"T_2bcfd71a_114c_11eb_8570_0242ac130202row3_col5\" class=\"data row3 col5\" >0.6295</td>\n",
       "                        <td id=\"T_2bcfd71a_114c_11eb_8570_0242ac130202row3_col6\" class=\"data row3 col6\" >0.6337</td>\n",
       "            </tr>\n",
       "            <tr>\n",
       "                        <th id=\"T_2bcfd71a_114c_11eb_8570_0242ac130202level0_row4\" class=\"row_heading level0 row4\" >4</th>\n",
       "                        <td id=\"T_2bcfd71a_114c_11eb_8570_0242ac130202row4_col0\" class=\"data row4 col0\" >0.8801</td>\n",
       "                        <td id=\"T_2bcfd71a_114c_11eb_8570_0242ac130202row4_col1\" class=\"data row4 col1\" >0.9332</td>\n",
       "                        <td id=\"T_2bcfd71a_114c_11eb_8570_0242ac130202row4_col2\" class=\"data row4 col2\" >0.6757</td>\n",
       "                        <td id=\"T_2bcfd71a_114c_11eb_8570_0242ac130202row4_col3\" class=\"data row4 col3\" >0.7979</td>\n",
       "                        <td id=\"T_2bcfd71a_114c_11eb_8570_0242ac130202row4_col4\" class=\"data row4 col4\" >0.7317</td>\n",
       "                        <td id=\"T_2bcfd71a_114c_11eb_8570_0242ac130202row4_col5\" class=\"data row4 col5\" >0.6553</td>\n",
       "                        <td id=\"T_2bcfd71a_114c_11eb_8570_0242ac130202row4_col6\" class=\"data row4 col6\" >0.6590</td>\n",
       "            </tr>\n",
       "            <tr>\n",
       "                        <th id=\"T_2bcfd71a_114c_11eb_8570_0242ac130202level0_row5\" class=\"row_heading level0 row5\" >Mean</th>\n",
       "                        <td id=\"T_2bcfd71a_114c_11eb_8570_0242ac130202row5_col0\" class=\"data row5 col0\" >0.8730</td>\n",
       "                        <td id=\"T_2bcfd71a_114c_11eb_8570_0242ac130202row5_col1\" class=\"data row5 col1\" >0.9285</td>\n",
       "                        <td id=\"T_2bcfd71a_114c_11eb_8570_0242ac130202row5_col2\" class=\"data row5 col2\" >0.6583</td>\n",
       "                        <td id=\"T_2bcfd71a_114c_11eb_8570_0242ac130202row5_col3\" class=\"data row5 col3\" >0.7823</td>\n",
       "                        <td id=\"T_2bcfd71a_114c_11eb_8570_0242ac130202row5_col4\" class=\"data row5 col4\" >0.7149</td>\n",
       "                        <td id=\"T_2bcfd71a_114c_11eb_8570_0242ac130202row5_col5\" class=\"data row5 col5\" >0.6340</td>\n",
       "                        <td id=\"T_2bcfd71a_114c_11eb_8570_0242ac130202row5_col6\" class=\"data row5 col6\" >0.6379</td>\n",
       "            </tr>\n",
       "            <tr>\n",
       "                        <th id=\"T_2bcfd71a_114c_11eb_8570_0242ac130202level0_row6\" class=\"row_heading level0 row6\" >SD</th>\n",
       "                        <td id=\"T_2bcfd71a_114c_11eb_8570_0242ac130202row6_col0\" class=\"data row6 col0\" >0.0048</td>\n",
       "                        <td id=\"T_2bcfd71a_114c_11eb_8570_0242ac130202row6_col1\" class=\"data row6 col1\" >0.0029</td>\n",
       "                        <td id=\"T_2bcfd71a_114c_11eb_8570_0242ac130202row6_col2\" class=\"data row6 col2\" >0.0149</td>\n",
       "                        <td id=\"T_2bcfd71a_114c_11eb_8570_0242ac130202row6_col3\" class=\"data row6 col3\" >0.0094</td>\n",
       "                        <td id=\"T_2bcfd71a_114c_11eb_8570_0242ac130202row6_col4\" class=\"data row6 col4\" >0.0122</td>\n",
       "                        <td id=\"T_2bcfd71a_114c_11eb_8570_0242ac130202row6_col5\" class=\"data row6 col5\" >0.0150</td>\n",
       "                        <td id=\"T_2bcfd71a_114c_11eb_8570_0242ac130202row6_col6\" class=\"data row6 col6\" >0.0146</td>\n",
       "            </tr>\n",
       "    </tbody></table>"
      ],
      "text/plain": [
       "<pandas.io.formats.style.Styler at 0x7f01848e5c90>"
      ]
     },
     "metadata": {},
     "output_type": "display_data"
    }
   ],
   "source": [
    "blended = blend_models(estimator_list = best_3, fold = 5, method = 'soft')\n",
    "blend_models"
   ]
  },
  {
   "cell_type": "markdown",
   "metadata": {
    "papermill": {
     "duration": 0.121809,
     "end_time": "2020-10-18T14:14:01.789746",
     "exception": false,
     "start_time": "2020-10-18T14:14:01.667937",
     "status": "completed"
    },
    "tags": []
   },
   "source": [
    "## 모델 예측 (Prediction)\n",
    "- 구축된 앙상블 모델을 통해 예측을 해보겠습니다. \n",
    "- setup 환경에 이미 hold-out set이 존재하므로 해당 데이터에 대해 예측을 하여 모델 성능을 확인하겠습니다. \n",
    "\n",
    "----\n",
    "- We will use the ensembled model on predicting unseen data.\n",
    "- There is already a hold-out set constucted on our environment so we will test on it to evaluate the performance."
   ]
  },
  {
   "cell_type": "code",
   "execution_count": 9,
   "metadata": {
    "execution": {
     "iopub.execute_input": "2020-10-18T14:14:02.038787Z",
     "iopub.status.busy": "2020-10-18T14:14:02.038034Z",
     "iopub.status.idle": "2020-10-18T14:14:02.462813Z",
     "shell.execute_reply": "2020-10-18T14:14:02.462062Z"
    },
    "papermill": {
     "duration": 0.551945,
     "end_time": "2020-10-18T14:14:02.462936",
     "exception": false,
     "start_time": "2020-10-18T14:14:01.910991",
     "status": "completed"
    },
    "tags": []
   },
   "outputs": [
    {
     "data": {
      "text/html": [
       "<div>\n",
       "<style scoped>\n",
       "    .dataframe tbody tr th:only-of-type {\n",
       "        vertical-align: middle;\n",
       "    }\n",
       "\n",
       "    .dataframe tbody tr th {\n",
       "        vertical-align: top;\n",
       "    }\n",
       "\n",
       "    .dataframe thead th {\n",
       "        text-align: right;\n",
       "    }\n",
       "</style>\n",
       "<table border=\"1\" class=\"dataframe\">\n",
       "  <thead>\n",
       "    <tr style=\"text-align: right;\">\n",
       "      <th></th>\n",
       "      <th>Model</th>\n",
       "      <th>Accuracy</th>\n",
       "      <th>AUC</th>\n",
       "      <th>Recall</th>\n",
       "      <th>Prec.</th>\n",
       "      <th>F1</th>\n",
       "      <th>Kappa</th>\n",
       "      <th>MCC</th>\n",
       "    </tr>\n",
       "  </thead>\n",
       "  <tbody>\n",
       "    <tr>\n",
       "      <th>0</th>\n",
       "      <td>Voting Classifier</td>\n",
       "      <td>0.8656</td>\n",
       "      <td>0.9255</td>\n",
       "      <td>0.6443</td>\n",
       "      <td>0.7638</td>\n",
       "      <td>0.699</td>\n",
       "      <td>0.6133</td>\n",
       "      <td>0.617</td>\n",
       "    </tr>\n",
       "  </tbody>\n",
       "</table>\n",
       "</div>"
      ],
      "text/plain": [
       "               Model  Accuracy     AUC  Recall   Prec.     F1   Kappa    MCC\n",
       "0  Voting Classifier    0.8656  0.9255  0.6443  0.7638  0.699  0.6133  0.617"
      ]
     },
     "metadata": {},
     "output_type": "display_data"
    }
   ],
   "source": [
    "pred_holdout = predict_model(blended)\n",
    "predict_model"
   ]
  },
  {
   "cell_type": "markdown",
   "metadata": {
    "papermill": {
     "duration": 0.122518,
     "end_time": "2020-10-18T14:14:02.708403",
     "exception": false,
     "start_time": "2020-10-18T14:14:02.585885",
     "status": "completed"
    },
    "tags": []
   },
   "source": [
    "## 전체 데이터에 대한 재학습 (Re-training the model on whole data)"
   ]
  },
  {
   "cell_type": "markdown",
   "metadata": {
    "papermill": {
     "duration": 0.12152,
     "end_time": "2020-10-18T14:14:02.952903",
     "exception": false,
     "start_time": "2020-10-18T14:14:02.831383",
     "status": "completed"
    },
    "tags": []
   },
   "source": [
    "- 현재까지 실험은 주어진 train 데이터를 다시 한 번 train / validation으로 나눠서 실험을 한 것이므로, 전체 train 데이터에 학습되어 있지 않습니다. \n",
    "- 최적의 성능을 위해 전체 데이터에 학습을 시켜주도록 하겠습니다. \n",
    "\n",
    "------\n",
    "- Until now we have splitted the given train data into another train / validation sets to experiment. So the models are not trained on the full training data set.\n",
    "- We will train the model on the whole dataset for the most optimal performance. "
   ]
  },
  {
   "cell_type": "code",
   "execution_count": 10,
   "metadata": {
    "execution": {
     "iopub.execute_input": "2020-10-18T14:14:03.203689Z",
     "iopub.status.busy": "2020-10-18T14:14:03.202520Z",
     "iopub.status.idle": "2020-10-18T14:16:58.616796Z",
     "shell.execute_reply": "2020-10-18T14:16:58.615917Z"
    },
    "papermill": {
     "duration": 175.541661,
     "end_time": "2020-10-18T14:16:58.616984",
     "exception": false,
     "start_time": "2020-10-18T14:14:03.075323",
     "status": "completed"
    },
    "tags": []
   },
   "outputs": [],
   "source": [
    "final_model = finalize_model(blended)"
   ]
  },
  {
   "cell_type": "markdown",
   "metadata": {
    "papermill": {
     "duration": 0.12163,
     "end_time": "2020-10-18T14:16:58.867106",
     "exception": false,
     "start_time": "2020-10-18T14:16:58.745476",
     "status": "completed"
    },
    "tags": []
   },
   "source": [
    "## 대회용 test set에 대한 예측 (Predicting on test set for the competition)"
   ]
  },
  {
   "cell_type": "markdown",
   "metadata": {
    "papermill": {
     "duration": 0.122241,
     "end_time": "2020-10-18T14:16:59.115789",
     "exception": false,
     "start_time": "2020-10-18T14:16:58.993548",
     "status": "completed"
    },
    "tags": []
   },
   "source": [
    "- predict_model 함수를 통해 재학습된 모델을 대회용 test set에 대해 예측해보겠습니다. \n",
    "- We will now use the re-trained model on the test set for the competition"
   ]
  },
  {
   "cell_type": "code",
   "execution_count": 11,
   "metadata": {
    "execution": {
     "iopub.execute_input": "2020-10-18T14:16:59.377235Z",
     "iopub.status.busy": "2020-10-18T14:16:59.376497Z",
     "iopub.status.idle": "2020-10-18T14:17:00.023245Z",
     "shell.execute_reply": "2020-10-18T14:17:00.023824Z"
    },
    "papermill": {
     "duration": 0.78595,
     "end_time": "2020-10-18T14:17:00.023993",
     "exception": false,
     "start_time": "2020-10-18T14:16:59.238043",
     "status": "completed"
    },
    "tags": []
   },
   "outputs": [],
   "source": [
    "predictions = predict_model(final_model, data = test)"
   ]
  },
  {
   "cell_type": "code",
   "execution_count": 12,
   "metadata": {
    "execution": {
     "iopub.execute_input": "2020-10-18T14:17:00.308706Z",
     "iopub.status.busy": "2020-10-18T14:17:00.297481Z",
     "iopub.status.idle": "2020-10-18T14:17:00.314033Z",
     "shell.execute_reply": "2020-10-18T14:17:00.313320Z"
    },
    "papermill": {
     "duration": 0.166203,
     "end_time": "2020-10-18T14:17:00.314157",
     "exception": false,
     "start_time": "2020-10-18T14:17:00.147954",
     "status": "completed"
    },
    "tags": []
   },
   "outputs": [
    {
     "data": {
      "text/html": [
       "<div>\n",
       "<style scoped>\n",
       "    .dataframe tbody tr th:only-of-type {\n",
       "        vertical-align: middle;\n",
       "    }\n",
       "\n",
       "    .dataframe tbody tr th {\n",
       "        vertical-align: top;\n",
       "    }\n",
       "\n",
       "    .dataframe thead th {\n",
       "        text-align: right;\n",
       "    }\n",
       "</style>\n",
       "<table border=\"1\" class=\"dataframe\">\n",
       "  <thead>\n",
       "    <tr style=\"text-align: right;\">\n",
       "      <th></th>\n",
       "      <th>id</th>\n",
       "      <th>age</th>\n",
       "      <th>workclass</th>\n",
       "      <th>fnlwgt</th>\n",
       "      <th>education</th>\n",
       "      <th>education_num</th>\n",
       "      <th>marital_status</th>\n",
       "      <th>occupation</th>\n",
       "      <th>relationship</th>\n",
       "      <th>race</th>\n",
       "      <th>sex</th>\n",
       "      <th>capital_gain</th>\n",
       "      <th>capital_loss</th>\n",
       "      <th>hours_per_week</th>\n",
       "      <th>native_country</th>\n",
       "      <th>Label</th>\n",
       "      <th>Score</th>\n",
       "    </tr>\n",
       "  </thead>\n",
       "  <tbody>\n",
       "    <tr>\n",
       "      <th>0</th>\n",
       "      <td>0</td>\n",
       "      <td>28</td>\n",
       "      <td>Private</td>\n",
       "      <td>67661</td>\n",
       "      <td>Some-college</td>\n",
       "      <td>10</td>\n",
       "      <td>Never-married</td>\n",
       "      <td>Adm-clerical</td>\n",
       "      <td>Other-relative</td>\n",
       "      <td>White</td>\n",
       "      <td>Female</td>\n",
       "      <td>0</td>\n",
       "      <td>0</td>\n",
       "      <td>40</td>\n",
       "      <td>United-States</td>\n",
       "      <td>&lt;=50K</td>\n",
       "      <td>0.0034</td>\n",
       "    </tr>\n",
       "    <tr>\n",
       "      <th>1</th>\n",
       "      <td>1</td>\n",
       "      <td>40</td>\n",
       "      <td>Self-emp-inc</td>\n",
       "      <td>37869</td>\n",
       "      <td>HS-grad</td>\n",
       "      <td>9</td>\n",
       "      <td>Married-civ-spouse</td>\n",
       "      <td>Exec-managerial</td>\n",
       "      <td>Husband</td>\n",
       "      <td>White</td>\n",
       "      <td>Male</td>\n",
       "      <td>0</td>\n",
       "      <td>0</td>\n",
       "      <td>50</td>\n",
       "      <td>United-States</td>\n",
       "      <td>&gt;50K</td>\n",
       "      <td>0.5428</td>\n",
       "    </tr>\n",
       "    <tr>\n",
       "      <th>2</th>\n",
       "      <td>2</td>\n",
       "      <td>20</td>\n",
       "      <td>Private</td>\n",
       "      <td>109952</td>\n",
       "      <td>Some-college</td>\n",
       "      <td>10</td>\n",
       "      <td>Never-married</td>\n",
       "      <td>Handlers-cleaners</td>\n",
       "      <td>Own-child</td>\n",
       "      <td>White</td>\n",
       "      <td>Male</td>\n",
       "      <td>0</td>\n",
       "      <td>0</td>\n",
       "      <td>25</td>\n",
       "      <td>United-States</td>\n",
       "      <td>&lt;=50K</td>\n",
       "      <td>0.0002</td>\n",
       "    </tr>\n",
       "    <tr>\n",
       "      <th>3</th>\n",
       "      <td>3</td>\n",
       "      <td>40</td>\n",
       "      <td>Private</td>\n",
       "      <td>114537</td>\n",
       "      <td>Assoc-voc</td>\n",
       "      <td>11</td>\n",
       "      <td>Married-civ-spouse</td>\n",
       "      <td>Exec-managerial</td>\n",
       "      <td>Husband</td>\n",
       "      <td>White</td>\n",
       "      <td>Male</td>\n",
       "      <td>0</td>\n",
       "      <td>0</td>\n",
       "      <td>50</td>\n",
       "      <td>United-States</td>\n",
       "      <td>&gt;50K</td>\n",
       "      <td>0.6900</td>\n",
       "    </tr>\n",
       "    <tr>\n",
       "      <th>4</th>\n",
       "      <td>4</td>\n",
       "      <td>37</td>\n",
       "      <td>Private</td>\n",
       "      <td>51264</td>\n",
       "      <td>Doctorate</td>\n",
       "      <td>16</td>\n",
       "      <td>Married-civ-spouse</td>\n",
       "      <td>Prof-specialty</td>\n",
       "      <td>Husband</td>\n",
       "      <td>White</td>\n",
       "      <td>Male</td>\n",
       "      <td>0</td>\n",
       "      <td>0</td>\n",
       "      <td>99</td>\n",
       "      <td>France</td>\n",
       "      <td>&lt;=50K</td>\n",
       "      <td>0.3569</td>\n",
       "    </tr>\n",
       "    <tr>\n",
       "      <th>...</th>\n",
       "      <td>...</td>\n",
       "      <td>...</td>\n",
       "      <td>...</td>\n",
       "      <td>...</td>\n",
       "      <td>...</td>\n",
       "      <td>...</td>\n",
       "      <td>...</td>\n",
       "      <td>...</td>\n",
       "      <td>...</td>\n",
       "      <td>...</td>\n",
       "      <td>...</td>\n",
       "      <td>...</td>\n",
       "      <td>...</td>\n",
       "      <td>...</td>\n",
       "      <td>...</td>\n",
       "      <td>...</td>\n",
       "      <td>...</td>\n",
       "    </tr>\n",
       "    <tr>\n",
       "      <th>6507</th>\n",
       "      <td>6507</td>\n",
       "      <td>35</td>\n",
       "      <td>Private</td>\n",
       "      <td>61343</td>\n",
       "      <td>Bachelors</td>\n",
       "      <td>13</td>\n",
       "      <td>Married-civ-spouse</td>\n",
       "      <td>Sales</td>\n",
       "      <td>Husband</td>\n",
       "      <td>White</td>\n",
       "      <td>Male</td>\n",
       "      <td>0</td>\n",
       "      <td>0</td>\n",
       "      <td>40</td>\n",
       "      <td>United-States</td>\n",
       "      <td>&gt;50K</td>\n",
       "      <td>0.5145</td>\n",
       "    </tr>\n",
       "    <tr>\n",
       "      <th>6508</th>\n",
       "      <td>6508</td>\n",
       "      <td>41</td>\n",
       "      <td>Self-emp-inc</td>\n",
       "      <td>32185</td>\n",
       "      <td>Bachelors</td>\n",
       "      <td>13</td>\n",
       "      <td>Married-civ-spouse</td>\n",
       "      <td>Tech-support</td>\n",
       "      <td>Husband</td>\n",
       "      <td>White</td>\n",
       "      <td>Male</td>\n",
       "      <td>0</td>\n",
       "      <td>0</td>\n",
       "      <td>40</td>\n",
       "      <td>United-States</td>\n",
       "      <td>&gt;50K</td>\n",
       "      <td>0.5892</td>\n",
       "    </tr>\n",
       "    <tr>\n",
       "      <th>6509</th>\n",
       "      <td>6509</td>\n",
       "      <td>39</td>\n",
       "      <td>Private</td>\n",
       "      <td>409189</td>\n",
       "      <td>5th-6th</td>\n",
       "      <td>3</td>\n",
       "      <td>Married-civ-spouse</td>\n",
       "      <td>Other-service</td>\n",
       "      <td>Husband</td>\n",
       "      <td>White</td>\n",
       "      <td>Male</td>\n",
       "      <td>0</td>\n",
       "      <td>0</td>\n",
       "      <td>40</td>\n",
       "      <td>Mexico</td>\n",
       "      <td>&lt;=50K</td>\n",
       "      <td>0.0233</td>\n",
       "    </tr>\n",
       "    <tr>\n",
       "      <th>6510</th>\n",
       "      <td>6510</td>\n",
       "      <td>35</td>\n",
       "      <td>Private</td>\n",
       "      <td>180342</td>\n",
       "      <td>HS-grad</td>\n",
       "      <td>9</td>\n",
       "      <td>Married-civ-spouse</td>\n",
       "      <td>Craft-repair</td>\n",
       "      <td>Husband</td>\n",
       "      <td>White</td>\n",
       "      <td>Male</td>\n",
       "      <td>0</td>\n",
       "      <td>0</td>\n",
       "      <td>40</td>\n",
       "      <td>United-States</td>\n",
       "      <td>&lt;=50K</td>\n",
       "      <td>0.2160</td>\n",
       "    </tr>\n",
       "    <tr>\n",
       "      <th>6511</th>\n",
       "      <td>6511</td>\n",
       "      <td>28</td>\n",
       "      <td>Private</td>\n",
       "      <td>156819</td>\n",
       "      <td>HS-grad</td>\n",
       "      <td>9</td>\n",
       "      <td>Divorced</td>\n",
       "      <td>Handlers-cleaners</td>\n",
       "      <td>Unmarried</td>\n",
       "      <td>White</td>\n",
       "      <td>Female</td>\n",
       "      <td>0</td>\n",
       "      <td>0</td>\n",
       "      <td>36</td>\n",
       "      <td>United-States</td>\n",
       "      <td>&lt;=50K</td>\n",
       "      <td>0.0070</td>\n",
       "    </tr>\n",
       "  </tbody>\n",
       "</table>\n",
       "<p>6512 rows × 17 columns</p>\n",
       "</div>"
      ],
      "text/plain": [
       "        id  age     workclass  fnlwgt     education  education_num  \\\n",
       "0        0   28       Private   67661  Some-college             10   \n",
       "1        1   40  Self-emp-inc   37869       HS-grad              9   \n",
       "2        2   20       Private  109952  Some-college             10   \n",
       "3        3   40       Private  114537     Assoc-voc             11   \n",
       "4        4   37       Private   51264     Doctorate             16   \n",
       "...    ...  ...           ...     ...           ...            ...   \n",
       "6507  6507   35       Private   61343     Bachelors             13   \n",
       "6508  6508   41  Self-emp-inc   32185     Bachelors             13   \n",
       "6509  6509   39       Private  409189       5th-6th              3   \n",
       "6510  6510   35       Private  180342       HS-grad              9   \n",
       "6511  6511   28       Private  156819       HS-grad              9   \n",
       "\n",
       "          marital_status         occupation    relationship   race     sex  \\\n",
       "0          Never-married       Adm-clerical  Other-relative  White  Female   \n",
       "1     Married-civ-spouse    Exec-managerial         Husband  White    Male   \n",
       "2          Never-married  Handlers-cleaners       Own-child  White    Male   \n",
       "3     Married-civ-spouse    Exec-managerial         Husband  White    Male   \n",
       "4     Married-civ-spouse     Prof-specialty         Husband  White    Male   \n",
       "...                  ...                ...             ...    ...     ...   \n",
       "6507  Married-civ-spouse              Sales         Husband  White    Male   \n",
       "6508  Married-civ-spouse       Tech-support         Husband  White    Male   \n",
       "6509  Married-civ-spouse      Other-service         Husband  White    Male   \n",
       "6510  Married-civ-spouse       Craft-repair         Husband  White    Male   \n",
       "6511            Divorced  Handlers-cleaners       Unmarried  White  Female   \n",
       "\n",
       "      capital_gain  capital_loss  hours_per_week native_country  Label   Score  \n",
       "0                0             0              40  United-States  <=50K  0.0034  \n",
       "1                0             0              50  United-States   >50K  0.5428  \n",
       "2                0             0              25  United-States  <=50K  0.0002  \n",
       "3                0             0              50  United-States   >50K  0.6900  \n",
       "4                0             0              99         France  <=50K  0.3569  \n",
       "...            ...           ...             ...            ...    ...     ...  \n",
       "6507             0             0              40  United-States   >50K  0.5145  \n",
       "6508             0             0              40  United-States   >50K  0.5892  \n",
       "6509             0             0              40         Mexico  <=50K  0.0233  \n",
       "6510             0             0              40  United-States  <=50K  0.2160  \n",
       "6511             0             0              36  United-States  <=50K  0.0070  \n",
       "\n",
       "[6512 rows x 17 columns]"
      ]
     },
     "execution_count": 12,
     "metadata": {},
     "output_type": "execute_result"
    }
   ],
   "source": [
    "predictions"
   ]
  },
  {
   "cell_type": "code",
   "execution_count": 13,
   "metadata": {
    "execution": {
     "iopub.execute_input": "2020-10-18T14:17:00.568147Z",
     "iopub.status.busy": "2020-10-18T14:17:00.567089Z",
     "iopub.status.idle": "2020-10-18T14:17:00.570359Z",
     "shell.execute_reply": "2020-10-18T14:17:00.569683Z"
    },
    "papermill": {
     "duration": 0.132388,
     "end_time": "2020-10-18T14:17:00.570475",
     "exception": false,
     "start_time": "2020-10-18T14:17:00.438087",
     "status": "completed"
    },
    "tags": []
   },
   "outputs": [],
   "source": [
    "submission['voted'] = predictions['Score']"
   ]
  },
  {
   "cell_type": "code",
   "execution_count": 14,
   "metadata": {
    "execution": {
     "iopub.execute_input": "2020-10-18T14:17:00.826627Z",
     "iopub.status.busy": "2020-10-18T14:17:00.825686Z",
     "iopub.status.idle": "2020-10-18T14:17:00.829286Z",
     "shell.execute_reply": "2020-10-18T14:17:00.828709Z"
    },
    "papermill": {
     "duration": 0.133972,
     "end_time": "2020-10-18T14:17:00.829411",
     "exception": false,
     "start_time": "2020-10-18T14:17:00.695439",
     "status": "completed"
    },
    "tags": []
   },
   "outputs": [],
   "source": [
    "submission.loc[submission['voted'] >= 0.5, 'prediction'] = 1"
   ]
  },
  {
   "cell_type": "code",
   "execution_count": 15,
   "metadata": {
    "execution": {
     "iopub.execute_input": "2020-10-18T14:17:01.138325Z",
     "iopub.status.busy": "2020-10-18T14:17:01.137347Z",
     "iopub.status.idle": "2020-10-18T14:17:01.141414Z",
     "shell.execute_reply": "2020-10-18T14:17:01.142006Z"
    },
    "papermill": {
     "duration": 0.141267,
     "end_time": "2020-10-18T14:17:01.142161",
     "exception": false,
     "start_time": "2020-10-18T14:17:01.000894",
     "status": "completed"
    },
    "tags": []
   },
   "outputs": [
    {
     "data": {
      "text/html": [
       "<div>\n",
       "<style scoped>\n",
       "    .dataframe tbody tr th:only-of-type {\n",
       "        vertical-align: middle;\n",
       "    }\n",
       "\n",
       "    .dataframe tbody tr th {\n",
       "        vertical-align: top;\n",
       "    }\n",
       "\n",
       "    .dataframe thead th {\n",
       "        text-align: right;\n",
       "    }\n",
       "</style>\n",
       "<table border=\"1\" class=\"dataframe\">\n",
       "  <thead>\n",
       "    <tr style=\"text-align: right;\">\n",
       "      <th></th>\n",
       "      <th>id</th>\n",
       "      <th>prediction</th>\n",
       "      <th>voted</th>\n",
       "    </tr>\n",
       "  </thead>\n",
       "  <tbody>\n",
       "    <tr>\n",
       "      <th>0</th>\n",
       "      <td>0</td>\n",
       "      <td>0</td>\n",
       "      <td>0.0034</td>\n",
       "    </tr>\n",
       "    <tr>\n",
       "      <th>1</th>\n",
       "      <td>1</td>\n",
       "      <td>1</td>\n",
       "      <td>0.5428</td>\n",
       "    </tr>\n",
       "    <tr>\n",
       "      <th>2</th>\n",
       "      <td>2</td>\n",
       "      <td>0</td>\n",
       "      <td>0.0002</td>\n",
       "    </tr>\n",
       "    <tr>\n",
       "      <th>3</th>\n",
       "      <td>3</td>\n",
       "      <td>1</td>\n",
       "      <td>0.6900</td>\n",
       "    </tr>\n",
       "    <tr>\n",
       "      <th>4</th>\n",
       "      <td>4</td>\n",
       "      <td>0</td>\n",
       "      <td>0.3569</td>\n",
       "    </tr>\n",
       "    <tr>\n",
       "      <th>...</th>\n",
       "      <td>...</td>\n",
       "      <td>...</td>\n",
       "      <td>...</td>\n",
       "    </tr>\n",
       "    <tr>\n",
       "      <th>6507</th>\n",
       "      <td>6507</td>\n",
       "      <td>1</td>\n",
       "      <td>0.5145</td>\n",
       "    </tr>\n",
       "    <tr>\n",
       "      <th>6508</th>\n",
       "      <td>6508</td>\n",
       "      <td>1</td>\n",
       "      <td>0.5892</td>\n",
       "    </tr>\n",
       "    <tr>\n",
       "      <th>6509</th>\n",
       "      <td>6509</td>\n",
       "      <td>0</td>\n",
       "      <td>0.0233</td>\n",
       "    </tr>\n",
       "    <tr>\n",
       "      <th>6510</th>\n",
       "      <td>6510</td>\n",
       "      <td>0</td>\n",
       "      <td>0.2160</td>\n",
       "    </tr>\n",
       "    <tr>\n",
       "      <th>6511</th>\n",
       "      <td>6511</td>\n",
       "      <td>0</td>\n",
       "      <td>0.0070</td>\n",
       "    </tr>\n",
       "  </tbody>\n",
       "</table>\n",
       "<p>6512 rows × 3 columns</p>\n",
       "</div>"
      ],
      "text/plain": [
       "        id  prediction   voted\n",
       "0        0           0  0.0034\n",
       "1        1           1  0.5428\n",
       "2        2           0  0.0002\n",
       "3        3           1  0.6900\n",
       "4        4           0  0.3569\n",
       "...    ...         ...     ...\n",
       "6507  6507           1  0.5145\n",
       "6508  6508           1  0.5892\n",
       "6509  6509           0  0.0233\n",
       "6510  6510           0  0.2160\n",
       "6511  6511           0  0.0070\n",
       "\n",
       "[6512 rows x 3 columns]"
      ]
     },
     "execution_count": 15,
     "metadata": {},
     "output_type": "execute_result"
    }
   ],
   "source": [
    "submission"
   ]
  },
  {
   "cell_type": "code",
   "execution_count": 16,
   "metadata": {
    "execution": {
     "iopub.execute_input": "2020-10-18T14:17:01.397718Z",
     "iopub.status.busy": "2020-10-18T14:17:01.396625Z",
     "iopub.status.idle": "2020-10-18T14:17:01.399606Z",
     "shell.execute_reply": "2020-10-18T14:17:01.400152Z"
    },
    "papermill": {
     "duration": 0.133504,
     "end_time": "2020-10-18T14:17:01.400305",
     "exception": false,
     "start_time": "2020-10-18T14:17:01.266801",
     "status": "completed"
    },
    "tags": []
   },
   "outputs": [],
   "source": [
    "del(submission['voted'])"
   ]
  },
  {
   "cell_type": "code",
   "execution_count": 17,
   "metadata": {
    "execution": {
     "iopub.execute_input": "2020-10-18T14:17:01.656002Z",
     "iopub.status.busy": "2020-10-18T14:17:01.655270Z",
     "iopub.status.idle": "2020-10-18T14:17:01.768322Z",
     "shell.execute_reply": "2020-10-18T14:17:01.767506Z"
    },
    "papermill": {
     "duration": 0.243477,
     "end_time": "2020-10-18T14:17:01.768448",
     "exception": false,
     "start_time": "2020-10-18T14:17:01.524971",
     "status": "completed"
    },
    "tags": []
   },
   "outputs": [],
   "source": [
    "submission.to_csv('submission_proba_0.csv', index = False)"
   ]
  },
  {
   "cell_type": "code",
   "execution_count": null,
   "metadata": {
    "papermill": {
     "duration": 0.126384,
     "end_time": "2020-10-18T14:17:02.021210",
     "exception": false,
     "start_time": "2020-10-18T14:17:01.894826",
     "status": "completed"
    },
    "tags": []
   },
   "outputs": [],
   "source": []
  }
 ],
 "metadata": {
  "kernelspec": {
   "display_name": "Python 3",
   "language": "python",
   "name": "python3"
  },
  "language_info": {
   "codemirror_mode": {
    "name": "ipython",
    "version": 3
   },
   "file_extension": ".py",
   "mimetype": "text/x-python",
   "name": "python",
   "nbconvert_exporter": "python",
   "pygments_lexer": "ipython3",
   "version": "3.7.7"
  },
  "papermill": {
   "duration": 895.496401,
   "end_time": "2020-10-18T14:17:02.261135",
   "environment_variables": {},
   "exception": null,
   "input_path": "__notebook__.ipynb",
   "output_path": "__notebook__.ipynb",
   "parameters": {},
   "start_time": "2020-10-18T14:02:06.764734",
   "version": "2.1.0"
  },
  "widgets": {
   "application/vnd.jupyter.widget-state+json": {
    "state": {
     "01714a9f03484434846b3ed087fb2023": {
      "model_module": "@jupyter-widgets/base",
      "model_module_version": "1.2.0",
      "model_name": "LayoutModel",
      "state": {
       "_model_module": "@jupyter-widgets/base",
       "_model_module_version": "1.2.0",
       "_model_name": "LayoutModel",
       "_view_count": null,
       "_view_module": "@jupyter-widgets/base",
       "_view_module_version": "1.2.0",
       "_view_name": "LayoutView",
       "align_content": null,
       "align_items": null,
       "align_self": null,
       "border": null,
       "bottom": null,
       "display": null,
       "flex": null,
       "flex_flow": null,
       "grid_area": null,
       "grid_auto_columns": null,
       "grid_auto_flow": null,
       "grid_auto_rows": null,
       "grid_column": null,
       "grid_gap": null,
       "grid_row": null,
       "grid_template_areas": null,
       "grid_template_columns": null,
       "grid_template_rows": null,
       "height": null,
       "justify_content": null,
       "justify_items": null,
       "left": null,
       "margin": null,
       "max_height": null,
       "max_width": null,
       "min_height": null,
       "min_width": null,
       "object_fit": null,
       "object_position": null,
       "order": null,
       "overflow": null,
       "overflow_x": null,
       "overflow_y": null,
       "padding": null,
       "right": null,
       "top": null,
       "visibility": null,
       "width": null
      }
     },
     "1371595bc17a4e1e990cda5b1c07e0f2": {
      "model_module": "@jupyter-widgets/base",
      "model_module_version": "1.2.0",
      "model_name": "LayoutModel",
      "state": {
       "_model_module": "@jupyter-widgets/base",
       "_model_module_version": "1.2.0",
       "_model_name": "LayoutModel",
       "_view_count": null,
       "_view_module": "@jupyter-widgets/base",
       "_view_module_version": "1.2.0",
       "_view_name": "LayoutView",
       "align_content": null,
       "align_items": null,
       "align_self": null,
       "border": null,
       "bottom": null,
       "display": null,
       "flex": null,
       "flex_flow": null,
       "grid_area": null,
       "grid_auto_columns": null,
       "grid_auto_flow": null,
       "grid_auto_rows": null,
       "grid_column": null,
       "grid_gap": null,
       "grid_row": null,
       "grid_template_areas": null,
       "grid_template_columns": null,
       "grid_template_rows": null,
       "height": null,
       "justify_content": null,
       "justify_items": null,
       "left": null,
       "margin": null,
       "max_height": null,
       "max_width": null,
       "min_height": null,
       "min_width": null,
       "object_fit": null,
       "object_position": null,
       "order": null,
       "overflow": null,
       "overflow_x": null,
       "overflow_y": null,
       "padding": null,
       "right": null,
       "top": null,
       "visibility": null,
       "width": null
      }
     },
     "1b93203524824ec1aca5594a1e80b77f": {
      "model_module": "@jupyter-widgets/controls",
      "model_module_version": "1.5.0",
      "model_name": "ProgressStyleModel",
      "state": {
       "_model_module": "@jupyter-widgets/controls",
       "_model_module_version": "1.5.0",
       "_model_name": "ProgressStyleModel",
       "_view_count": null,
       "_view_module": "@jupyter-widgets/base",
       "_view_module_version": "1.2.0",
       "_view_name": "StyleView",
       "bar_color": null,
       "description_width": ""
      }
     },
     "3b14c47d1e214a2ea25187eab9c8ce5b": {
      "model_module": "@jupyter-widgets/base",
      "model_module_version": "1.2.0",
      "model_name": "LayoutModel",
      "state": {
       "_model_module": "@jupyter-widgets/base",
       "_model_module_version": "1.2.0",
       "_model_name": "LayoutModel",
       "_view_count": null,
       "_view_module": "@jupyter-widgets/base",
       "_view_module_version": "1.2.0",
       "_view_name": "LayoutView",
       "align_content": null,
       "align_items": null,
       "align_self": null,
       "border": null,
       "bottom": null,
       "display": null,
       "flex": null,
       "flex_flow": null,
       "grid_area": null,
       "grid_auto_columns": null,
       "grid_auto_flow": null,
       "grid_auto_rows": null,
       "grid_column": null,
       "grid_gap": null,
       "grid_row": null,
       "grid_template_areas": null,
       "grid_template_columns": null,
       "grid_template_rows": null,
       "height": null,
       "justify_content": null,
       "justify_items": null,
       "left": null,
       "margin": null,
       "max_height": null,
       "max_width": null,
       "min_height": null,
       "min_width": null,
       "object_fit": null,
       "object_position": null,
       "order": null,
       "overflow": null,
       "overflow_x": null,
       "overflow_y": null,
       "padding": null,
       "right": null,
       "top": null,
       "visibility": null,
       "width": null
      }
     },
     "45215e757bda475186ba409d84d39a78": {
      "model_module": "@jupyter-widgets/controls",
      "model_module_version": "1.5.0",
      "model_name": "ProgressStyleModel",
      "state": {
       "_model_module": "@jupyter-widgets/controls",
       "_model_module_version": "1.5.0",
       "_model_name": "ProgressStyleModel",
       "_view_count": null,
       "_view_module": "@jupyter-widgets/base",
       "_view_module_version": "1.2.0",
       "_view_name": "StyleView",
       "bar_color": null,
       "description_width": ""
      }
     },
     "4a073ab7603747429e7fb2882d940ac3": {
      "model_module": "@jupyter-widgets/controls",
      "model_module_version": "1.5.0",
      "model_name": "ProgressStyleModel",
      "state": {
       "_model_module": "@jupyter-widgets/controls",
       "_model_module_version": "1.5.0",
       "_model_name": "ProgressStyleModel",
       "_view_count": null,
       "_view_module": "@jupyter-widgets/base",
       "_view_module_version": "1.2.0",
       "_view_name": "StyleView",
       "bar_color": null,
       "description_width": ""
      }
     },
     "53b7caf16b904bd9b361db474ad30341": {
      "model_module": "@jupyter-widgets/controls",
      "model_module_version": "1.5.0",
      "model_name": "IntProgressModel",
      "state": {
       "_dom_classes": [],
       "_model_module": "@jupyter-widgets/controls",
       "_model_module_version": "1.5.0",
       "_model_name": "IntProgressModel",
       "_view_count": null,
       "_view_module": "@jupyter-widgets/controls",
       "_view_module_version": "1.5.0",
       "_view_name": "ProgressView",
       "bar_style": "",
       "description": "Processing: ",
       "description_tooltip": null,
       "layout": "IPY_MODEL_5ccf997d05304f549d04e3c3b4d9c55a",
       "max": 14,
       "min": 0,
       "orientation": "horizontal",
       "style": "IPY_MODEL_45215e757bda475186ba409d84d39a78",
       "value": 14
      }
     },
     "5c1330b387dc4f8682883347027fdb64": {
      "model_module": "@jupyter-widgets/base",
      "model_module_version": "1.2.0",
      "model_name": "LayoutModel",
      "state": {
       "_model_module": "@jupyter-widgets/base",
       "_model_module_version": "1.2.0",
       "_model_name": "LayoutModel",
       "_view_count": null,
       "_view_module": "@jupyter-widgets/base",
       "_view_module_version": "1.2.0",
       "_view_name": "LayoutView",
       "align_content": null,
       "align_items": null,
       "align_self": null,
       "border": null,
       "bottom": null,
       "display": null,
       "flex": null,
       "flex_flow": null,
       "grid_area": null,
       "grid_auto_columns": null,
       "grid_auto_flow": null,
       "grid_auto_rows": null,
       "grid_column": null,
       "grid_gap": null,
       "grid_row": null,
       "grid_template_areas": null,
       "grid_template_columns": null,
       "grid_template_rows": null,
       "height": null,
       "justify_content": null,
       "justify_items": null,
       "left": null,
       "margin": null,
       "max_height": null,
       "max_width": null,
       "min_height": null,
       "min_width": null,
       "object_fit": null,
       "object_position": null,
       "order": null,
       "overflow": null,
       "overflow_x": null,
       "overflow_y": null,
       "padding": null,
       "right": null,
       "top": null,
       "visibility": null,
       "width": null
      }
     },
     "5ccf997d05304f549d04e3c3b4d9c55a": {
      "model_module": "@jupyter-widgets/base",
      "model_module_version": "1.2.0",
      "model_name": "LayoutModel",
      "state": {
       "_model_module": "@jupyter-widgets/base",
       "_model_module_version": "1.2.0",
       "_model_name": "LayoutModel",
       "_view_count": null,
       "_view_module": "@jupyter-widgets/base",
       "_view_module_version": "1.2.0",
       "_view_name": "LayoutView",
       "align_content": null,
       "align_items": null,
       "align_self": null,
       "border": null,
       "bottom": null,
       "display": null,
       "flex": null,
       "flex_flow": null,
       "grid_area": null,
       "grid_auto_columns": null,
       "grid_auto_flow": null,
       "grid_auto_rows": null,
       "grid_column": null,
       "grid_gap": null,
       "grid_row": null,
       "grid_template_areas": null,
       "grid_template_columns": null,
       "grid_template_rows": null,
       "height": null,
       "justify_content": null,
       "justify_items": null,
       "left": null,
       "margin": null,
       "max_height": null,
       "max_width": null,
       "min_height": null,
       "min_width": null,
       "object_fit": null,
       "object_position": null,
       "order": null,
       "overflow": null,
       "overflow_x": null,
       "overflow_y": null,
       "padding": null,
       "right": null,
       "top": null,
       "visibility": null,
       "width": null
      }
     },
     "5f45be68ccbd44a0b001c8999566401a": {
      "model_module": "@jupyter-widgets/base",
      "model_module_version": "1.2.0",
      "model_name": "LayoutModel",
      "state": {
       "_model_module": "@jupyter-widgets/base",
       "_model_module_version": "1.2.0",
       "_model_name": "LayoutModel",
       "_view_count": null,
       "_view_module": "@jupyter-widgets/base",
       "_view_module_version": "1.2.0",
       "_view_name": "LayoutView",
       "align_content": null,
       "align_items": null,
       "align_self": null,
       "border": null,
       "bottom": null,
       "display": null,
       "flex": null,
       "flex_flow": null,
       "grid_area": null,
       "grid_auto_columns": null,
       "grid_auto_flow": null,
       "grid_auto_rows": null,
       "grid_column": null,
       "grid_gap": null,
       "grid_row": null,
       "grid_template_areas": null,
       "grid_template_columns": null,
       "grid_template_rows": null,
       "height": null,
       "justify_content": null,
       "justify_items": null,
       "left": null,
       "margin": null,
       "max_height": null,
       "max_width": null,
       "min_height": null,
       "min_width": null,
       "object_fit": null,
       "object_position": null,
       "order": null,
       "overflow": null,
       "overflow_x": null,
       "overflow_y": null,
       "padding": null,
       "right": null,
       "top": null,
       "visibility": null,
       "width": null
      }
     },
     "5f508b38c1bb492b8c9e23207730b9ff": {
      "model_module": "@jupyter-widgets/controls",
      "model_module_version": "1.5.0",
      "model_name": "ProgressStyleModel",
      "state": {
       "_model_module": "@jupyter-widgets/controls",
       "_model_module_version": "1.5.0",
       "_model_name": "ProgressStyleModel",
       "_view_count": null,
       "_view_module": "@jupyter-widgets/base",
       "_view_module_version": "1.2.0",
       "_view_name": "StyleView",
       "bar_color": null,
       "description_width": ""
      }
     },
     "67ff6c8bdc56435bb7e1a50ec6e5f425": {
      "model_module": "@jupyter-widgets/controls",
      "model_module_version": "1.5.0",
      "model_name": "ProgressStyleModel",
      "state": {
       "_model_module": "@jupyter-widgets/controls",
       "_model_module_version": "1.5.0",
       "_model_name": "ProgressStyleModel",
       "_view_count": null,
       "_view_module": "@jupyter-widgets/base",
       "_view_module_version": "1.2.0",
       "_view_name": "StyleView",
       "bar_color": null,
       "description_width": ""
      }
     },
     "9efc64b665e746dfa6414e383bfaad43": {
      "model_module": "@jupyter-widgets/base",
      "model_module_version": "1.2.0",
      "model_name": "LayoutModel",
      "state": {
       "_model_module": "@jupyter-widgets/base",
       "_model_module_version": "1.2.0",
       "_model_name": "LayoutModel",
       "_view_count": null,
       "_view_module": "@jupyter-widgets/base",
       "_view_module_version": "1.2.0",
       "_view_name": "LayoutView",
       "align_content": null,
       "align_items": null,
       "align_self": null,
       "border": null,
       "bottom": null,
       "display": null,
       "flex": null,
       "flex_flow": null,
       "grid_area": null,
       "grid_auto_columns": null,
       "grid_auto_flow": null,
       "grid_auto_rows": null,
       "grid_column": null,
       "grid_gap": null,
       "grid_row": null,
       "grid_template_areas": null,
       "grid_template_columns": null,
       "grid_template_rows": null,
       "height": null,
       "justify_content": null,
       "justify_items": null,
       "left": null,
       "margin": null,
       "max_height": null,
       "max_width": null,
       "min_height": null,
       "min_width": null,
       "object_fit": null,
       "object_position": null,
       "order": null,
       "overflow": null,
       "overflow_x": null,
       "overflow_y": null,
       "padding": null,
       "right": null,
       "top": null,
       "visibility": null,
       "width": null
      }
     },
     "a15a7d511d2f487cb6cb1a9fb21aafff": {
      "model_module": "@jupyter-widgets/controls",
      "model_module_version": "1.5.0",
      "model_name": "IntProgressModel",
      "state": {
       "_dom_classes": [],
       "_model_module": "@jupyter-widgets/controls",
       "_model_module_version": "1.5.0",
       "_model_name": "IntProgressModel",
       "_view_count": null,
       "_view_module": "@jupyter-widgets/controls",
       "_view_module_version": "1.5.0",
       "_view_name": "ProgressView",
       "bar_style": "",
       "description": "Processing: ",
       "description_tooltip": null,
       "layout": "IPY_MODEL_1371595bc17a4e1e990cda5b1c07e0f2",
       "max": 14,
       "min": 0,
       "orientation": "horizontal",
       "style": "IPY_MODEL_4a073ab7603747429e7fb2882d940ac3",
       "value": 14
      }
     },
     "c6f2308fd5e84a5696085bdf8f4fc107": {
      "model_module": "@jupyter-widgets/controls",
      "model_module_version": "1.5.0",
      "model_name": "IntProgressModel",
      "state": {
       "_dom_classes": [],
       "_model_module": "@jupyter-widgets/controls",
       "_model_module_version": "1.5.0",
       "_model_name": "IntProgressModel",
       "_view_count": null,
       "_view_module": "@jupyter-widgets/controls",
       "_view_module_version": "1.5.0",
       "_view_name": "ProgressView",
       "bar_style": "",
       "description": "Processing: ",
       "description_tooltip": null,
       "layout": "IPY_MODEL_3b14c47d1e214a2ea25187eab9c8ce5b",
       "max": 9,
       "min": 0,
       "orientation": "horizontal",
       "style": "IPY_MODEL_1b93203524824ec1aca5594a1e80b77f",
       "value": 9
      }
     },
     "d0f84de48f5541ce967403c590310adc": {
      "model_module": "@jupyter-widgets/controls",
      "model_module_version": "1.5.0",
      "model_name": "IntProgressModel",
      "state": {
       "_dom_classes": [],
       "_model_module": "@jupyter-widgets/controls",
       "_model_module_version": "1.5.0",
       "_model_name": "IntProgressModel",
       "_view_count": null,
       "_view_module": "@jupyter-widgets/controls",
       "_view_module_version": "1.5.0",
       "_view_name": "ProgressView",
       "bar_style": "",
       "description": "Processing: ",
       "description_tooltip": null,
       "layout": "IPY_MODEL_01714a9f03484434846b3ed087fb2023",
       "max": 178,
       "min": 0,
       "orientation": "horizontal",
       "style": "IPY_MODEL_5f508b38c1bb492b8c9e23207730b9ff",
       "value": 174
      }
     },
     "d3f0d00cc4564914bc692bcf660d9633": {
      "model_module": "@jupyter-widgets/controls",
      "model_module_version": "1.5.0",
      "model_name": "IntProgressModel",
      "state": {
       "_dom_classes": [],
       "_model_module": "@jupyter-widgets/controls",
       "_model_module_version": "1.5.0",
       "_model_name": "IntProgressModel",
       "_view_count": null,
       "_view_module": "@jupyter-widgets/controls",
       "_view_module_version": "1.5.0",
       "_view_name": "ProgressView",
       "bar_style": "",
       "description": "Processing: ",
       "description_tooltip": null,
       "layout": "IPY_MODEL_5c1330b387dc4f8682883347027fdb64",
       "max": 3,
       "min": 0,
       "orientation": "horizontal",
       "style": "IPY_MODEL_67ff6c8bdc56435bb7e1a50ec6e5f425",
       "value": 3
      }
     },
     "da3a385c2d88455da20d6dd1c29c435d": {
      "model_module": "@jupyter-widgets/controls",
      "model_module_version": "1.5.0",
      "model_name": "IntProgressModel",
      "state": {
       "_dom_classes": [],
       "_model_module": "@jupyter-widgets/controls",
       "_model_module_version": "1.5.0",
       "_model_name": "IntProgressModel",
       "_view_count": null,
       "_view_module": "@jupyter-widgets/controls",
       "_view_module_version": "1.5.0",
       "_view_name": "ProgressView",
       "bar_style": "",
       "description": "Processing: ",
       "description_tooltip": null,
       "layout": "IPY_MODEL_5f45be68ccbd44a0b001c8999566401a",
       "max": 14,
       "min": 0,
       "orientation": "horizontal",
       "style": "IPY_MODEL_e5cd1515575d47a7b16e30111414de01",
       "value": 14
      }
     },
     "e2c7482187a34978907b0a72a8d508e4": {
      "model_module": "@jupyter-widgets/controls",
      "model_module_version": "1.5.0",
      "model_name": "IntProgressModel",
      "state": {
       "_dom_classes": [],
       "_model_module": "@jupyter-widgets/controls",
       "_model_module_version": "1.5.0",
       "_model_name": "IntProgressModel",
       "_view_count": null,
       "_view_module": "@jupyter-widgets/controls",
       "_view_module_version": "1.5.0",
       "_view_name": "ProgressView",
       "bar_style": "",
       "description": "Processing: ",
       "description_tooltip": null,
       "layout": "IPY_MODEL_9efc64b665e746dfa6414e383bfaad43",
       "max": 14,
       "min": 0,
       "orientation": "horizontal",
       "style": "IPY_MODEL_f9236267ee9d4a7c8e0d41e17421f062",
       "value": 14
      }
     },
     "e5cd1515575d47a7b16e30111414de01": {
      "model_module": "@jupyter-widgets/controls",
      "model_module_version": "1.5.0",
      "model_name": "ProgressStyleModel",
      "state": {
       "_model_module": "@jupyter-widgets/controls",
       "_model_module_version": "1.5.0",
       "_model_name": "ProgressStyleModel",
       "_view_count": null,
       "_view_module": "@jupyter-widgets/base",
       "_view_module_version": "1.2.0",
       "_view_name": "StyleView",
       "bar_color": null,
       "description_width": ""
      }
     },
     "f9236267ee9d4a7c8e0d41e17421f062": {
      "model_module": "@jupyter-widgets/controls",
      "model_module_version": "1.5.0",
      "model_name": "ProgressStyleModel",
      "state": {
       "_model_module": "@jupyter-widgets/controls",
       "_model_module_version": "1.5.0",
       "_model_name": "ProgressStyleModel",
       "_view_count": null,
       "_view_module": "@jupyter-widgets/base",
       "_view_module_version": "1.2.0",
       "_view_name": "StyleView",
       "bar_color": null,
       "description_width": ""
      }
     }
    },
    "version_major": 2,
    "version_minor": 0
   }
  }
 },
 "nbformat": 4,
 "nbformat_minor": 4
}
